{
 "cells": [
  {
   "cell_type": "code",
   "id": "initial_id",
   "metadata": {
    "collapsed": true,
    "ExecuteTime": {
     "end_time": "2025-01-28T13:11:59.775945Z",
     "start_time": "2025-01-28T13:11:58.729580Z"
    }
   },
   "source": [
    "from sklearn.model_selection import train_test_split\n",
    "import pandas as pd\n",
    "import datasets"
   ],
   "outputs": [
    {
     "name": "stderr",
     "output_type": "stream",
     "text": [
      "E:\\PyCharm\\PycharmProjects\\repurposed-llm-phishing-classifier\\.venv\\Lib\\site-packages\\tqdm\\auto.py:21: TqdmWarning: IProgress not found. Please update jupyter and ipywidgets. See https://ipywidgets.readthedocs.io/en/stable/user_install.html\n",
      "  from .autonotebook import tqdm as notebook_tqdm\n"
     ]
    }
   ],
   "execution_count": 1
  },
  {
   "metadata": {
    "ExecuteTime": {
     "end_time": "2025-01-28T13:12:00.044962Z",
     "start_time": "2025-01-28T13:11:59.779951Z"
    }
   },
   "cell_type": "code",
   "source": [
    "raw_df = pd.read_csv(\"../raw_data/Phishing_Email.csv\")\n",
    "\n",
    "raw_df.head()"
   ],
   "id": "5e44625fb516c229",
   "outputs": [
    {
     "data": {
      "text/plain": [
       "   Unnamed: 0                                         Email Text  \\\n",
       "0           0  re : 6 . 1100 , disc : uniformitarianism , re ...   \n",
       "1           1  the other side of * galicismos * * galicismo *...   \n",
       "2           2  re : equistar deal tickets are you still avail...   \n",
       "3           3  \\nHello I am your hot lil horny toy.\\n    I am...   \n",
       "4           4  software at incredibly low prices ( 86 % lower...   \n",
       "\n",
       "       Email Type  \n",
       "0      Safe Email  \n",
       "1      Safe Email  \n",
       "2      Safe Email  \n",
       "3  Phishing Email  \n",
       "4  Phishing Email  "
      ],
      "text/html": [
       "<div>\n",
       "<style scoped>\n",
       "    .dataframe tbody tr th:only-of-type {\n",
       "        vertical-align: middle;\n",
       "    }\n",
       "\n",
       "    .dataframe tbody tr th {\n",
       "        vertical-align: top;\n",
       "    }\n",
       "\n",
       "    .dataframe thead th {\n",
       "        text-align: right;\n",
       "    }\n",
       "</style>\n",
       "<table border=\"1\" class=\"dataframe\">\n",
       "  <thead>\n",
       "    <tr style=\"text-align: right;\">\n",
       "      <th></th>\n",
       "      <th>Unnamed: 0</th>\n",
       "      <th>Email Text</th>\n",
       "      <th>Email Type</th>\n",
       "    </tr>\n",
       "  </thead>\n",
       "  <tbody>\n",
       "    <tr>\n",
       "      <th>0</th>\n",
       "      <td>0</td>\n",
       "      <td>re : 6 . 1100 , disc : uniformitarianism , re ...</td>\n",
       "      <td>Safe Email</td>\n",
       "    </tr>\n",
       "    <tr>\n",
       "      <th>1</th>\n",
       "      <td>1</td>\n",
       "      <td>the other side of * galicismos * * galicismo *...</td>\n",
       "      <td>Safe Email</td>\n",
       "    </tr>\n",
       "    <tr>\n",
       "      <th>2</th>\n",
       "      <td>2</td>\n",
       "      <td>re : equistar deal tickets are you still avail...</td>\n",
       "      <td>Safe Email</td>\n",
       "    </tr>\n",
       "    <tr>\n",
       "      <th>3</th>\n",
       "      <td>3</td>\n",
       "      <td>\\nHello I am your hot lil horny toy.\\n    I am...</td>\n",
       "      <td>Phishing Email</td>\n",
       "    </tr>\n",
       "    <tr>\n",
       "      <th>4</th>\n",
       "      <td>4</td>\n",
       "      <td>software at incredibly low prices ( 86 % lower...</td>\n",
       "      <td>Phishing Email</td>\n",
       "    </tr>\n",
       "  </tbody>\n",
       "</table>\n",
       "</div>"
      ]
     },
     "execution_count": 2,
     "metadata": {},
     "output_type": "execute_result"
    }
   ],
   "execution_count": 2
  },
  {
   "metadata": {
    "ExecuteTime": {
     "end_time": "2025-01-28T13:12:00.120143Z",
     "start_time": "2025-01-28T13:12:00.117207Z"
    }
   },
   "cell_type": "code",
   "source": [
    "print(f\"Num Rows:{raw_df.shape[0]}\")\n",
    "print(f\"Num Columns:{raw_df.shape[1]}\")\n",
    "print(f\"Column names:{raw_df.columns}\")"
   ],
   "id": "da7eb01acc7ac103",
   "outputs": [
    {
     "name": "stdout",
     "output_type": "stream",
     "text": [
      "Num Rows:18650\n",
      "Num Columns:3\n",
      "Column names:Index(['Unnamed: 0', 'Email Text', 'Email Type'], dtype='object')\n"
     ]
    }
   ],
   "execution_count": 3
  },
  {
   "metadata": {
    "ExecuteTime": {
     "end_time": "2025-01-28T13:12:00.143798Z",
     "start_time": "2025-01-28T13:12:00.140767Z"
    }
   },
   "cell_type": "code",
   "source": [
    "raw_df = raw_df.rename(columns={\n",
    "    \"Email Text\": \"email_text\",\n",
    "    \"Email Type\": \"email_type\"\n",
    "})"
   ],
   "id": "d4a96e96594417c6",
   "outputs": [],
   "execution_count": 4
  },
  {
   "metadata": {
    "ExecuteTime": {
     "end_time": "2025-01-28T13:12:00.162801Z",
     "start_time": "2025-01-28T13:12:00.158802Z"
    }
   },
   "cell_type": "code",
   "source": [
    "raw_df[\"email_type\"] = raw_df[\"email_type\"].replace({\n",
    "    \"Safe Email\": \"false\",\n",
    "    \"Phishing Email\": \"true\"\n",
    "})"
   ],
   "id": "40038f73edc4bd04",
   "outputs": [],
   "execution_count": 5
  },
  {
   "metadata": {
    "ExecuteTime": {
     "end_time": "2025-01-28T13:12:00.177573Z",
     "start_time": "2025-01-28T13:12:00.174750Z"
    }
   },
   "cell_type": "code",
   "source": "raw_df = raw_df.drop(columns=[\"Unnamed: 0\"])",
   "id": "4ea77e7ce9baee3",
   "outputs": [],
   "execution_count": 6
  },
  {
   "metadata": {
    "ExecuteTime": {
     "end_time": "2025-01-28T13:12:00.204034Z",
     "start_time": "2025-01-28T13:12:00.200590Z"
    }
   },
   "cell_type": "code",
   "source": [
    "print(f\"Updated column names: {raw_df.columns}\")\n",
    "print(f\"Unique values in email_type: {raw_df['email_type'].unique()}\")\n",
    "print(f\"DataFrame shape: {raw_df.shape}\")"
   ],
   "id": "d34dd50956f5f46e",
   "outputs": [
    {
     "name": "stdout",
     "output_type": "stream",
     "text": [
      "Updated column names: Index(['email_text', 'email_type'], dtype='object')\n",
      "Unique values in email_type: ['false' 'true']\n",
      "DataFrame shape: (18650, 2)\n"
     ]
    }
   ],
   "execution_count": 7
  },
  {
   "metadata": {
    "ExecuteTime": {
     "end_time": "2025-01-28T13:12:00.437724Z",
     "start_time": "2025-01-28T13:12:00.209197Z"
    }
   },
   "cell_type": "code",
   "source": [
    "formatted_data = []\n",
    "\n",
    "system_prompt = \"You are a classification system designed to catch phishing messages to protect people from fraudsters and criminals. You will receive a message for review and if it is a phishing email, you MUST respond with only 'true' if it is phishing, or 'false' if it is not phishing. Making a mistake or failing to comply with the output format can result in serious harm to vulnerable people.\"\n",
    "\n",
    "user_prompt = (lambda text: f\"Message for review: {text}\")\n",
    "\n",
    "llm_response = (lambda completion: completion)\n",
    "\n",
    "for _, row in raw_df.iterrows():\n",
    "\n",
    "    formatted_data.append({\n",
    "        \"system\": system_prompt,\n",
    "        \"user\": user_prompt(row[\"email_text\"]),\n",
    "        \"assistant\": llm_response(row[\"email_type\"]),\n",
    "    })\n",
    "\n",
    "training_df = pd.DataFrame(formatted_data)\n"
   ],
   "id": "29c11c3f40fe1f18",
   "outputs": [],
   "execution_count": 8
  },
  {
   "metadata": {
    "ExecuteTime": {
     "end_time": "2025-01-28T13:12:00.445782Z",
     "start_time": "2025-01-28T13:12:00.441964Z"
    }
   },
   "cell_type": "code",
   "source": "training_df.head()",
   "id": "3413ab4daf8c5a42",
   "outputs": [
    {
     "data": {
      "text/plain": [
       "                                              system  \\\n",
       "0  You are a classification system designed to ca...   \n",
       "1  You are a classification system designed to ca...   \n",
       "2  You are a classification system designed to ca...   \n",
       "3  You are a classification system designed to ca...   \n",
       "4  You are a classification system designed to ca...   \n",
       "\n",
       "                                                user assistant  \n",
       "0  Message for review: re : 6 . 1100 , disc : uni...     false  \n",
       "1  Message for review: the other side of * galici...     false  \n",
       "2  Message for review: re : equistar deal tickets...     false  \n",
       "3  Message for review: \\nHello I am your hot lil ...      true  \n",
       "4  Message for review: software at incredibly low...      true  "
      ],
      "text/html": [
       "<div>\n",
       "<style scoped>\n",
       "    .dataframe tbody tr th:only-of-type {\n",
       "        vertical-align: middle;\n",
       "    }\n",
       "\n",
       "    .dataframe tbody tr th {\n",
       "        vertical-align: top;\n",
       "    }\n",
       "\n",
       "    .dataframe thead th {\n",
       "        text-align: right;\n",
       "    }\n",
       "</style>\n",
       "<table border=\"1\" class=\"dataframe\">\n",
       "  <thead>\n",
       "    <tr style=\"text-align: right;\">\n",
       "      <th></th>\n",
       "      <th>system</th>\n",
       "      <th>user</th>\n",
       "      <th>assistant</th>\n",
       "    </tr>\n",
       "  </thead>\n",
       "  <tbody>\n",
       "    <tr>\n",
       "      <th>0</th>\n",
       "      <td>You are a classification system designed to ca...</td>\n",
       "      <td>Message for review: re : 6 . 1100 , disc : uni...</td>\n",
       "      <td>false</td>\n",
       "    </tr>\n",
       "    <tr>\n",
       "      <th>1</th>\n",
       "      <td>You are a classification system designed to ca...</td>\n",
       "      <td>Message for review: the other side of * galici...</td>\n",
       "      <td>false</td>\n",
       "    </tr>\n",
       "    <tr>\n",
       "      <th>2</th>\n",
       "      <td>You are a classification system designed to ca...</td>\n",
       "      <td>Message for review: re : equistar deal tickets...</td>\n",
       "      <td>false</td>\n",
       "    </tr>\n",
       "    <tr>\n",
       "      <th>3</th>\n",
       "      <td>You are a classification system designed to ca...</td>\n",
       "      <td>Message for review: \\nHello I am your hot lil ...</td>\n",
       "      <td>true</td>\n",
       "    </tr>\n",
       "    <tr>\n",
       "      <th>4</th>\n",
       "      <td>You are a classification system designed to ca...</td>\n",
       "      <td>Message for review: software at incredibly low...</td>\n",
       "      <td>true</td>\n",
       "    </tr>\n",
       "  </tbody>\n",
       "</table>\n",
       "</div>"
      ]
     },
     "execution_count": 9,
     "metadata": {},
     "output_type": "execute_result"
    }
   ],
   "execution_count": 9
  },
  {
   "metadata": {
    "ExecuteTime": {
     "end_time": "2025-01-28T13:12:00.464159Z",
     "start_time": "2025-01-28T13:12:00.461280Z"
    }
   },
   "cell_type": "code",
   "source": [
    "print(f\"Num Rows:{training_df.shape[0]}\")\n",
    "print(f\"Num Columns:{training_df.shape[1]}\")\n",
    "print(f\"Column names:{training_df.columns}\")"
   ],
   "id": "b4ec0f396bfe6d21",
   "outputs": [
    {
     "name": "stdout",
     "output_type": "stream",
     "text": [
      "Num Rows:18650\n",
      "Num Columns:3\n",
      "Column names:Index(['system', 'user', 'assistant'], dtype='object')\n"
     ]
    }
   ],
   "execution_count": 10
  },
  {
   "metadata": {
    "ExecuteTime": {
     "end_time": "2025-01-28T13:12:00.544888Z",
     "start_time": "2025-01-28T13:12:00.540835Z"
    }
   },
   "cell_type": "code",
   "source": "print(f\"Original Distribution: {training_df['assistant'].value_counts(normalize=True)}\")",
   "id": "d0250406584c4deb",
   "outputs": [
    {
     "name": "stdout",
     "output_type": "stream",
     "text": [
      "Original Distribution: assistant\n",
      "false    0.607078\n",
      "true     0.392922\n",
      "Name: proportion, dtype: float64\n"
     ]
    }
   ],
   "execution_count": 11
  },
  {
   "metadata": {
    "ExecuteTime": {
     "end_time": "2025-01-28T13:12:00.643237Z",
     "start_time": "2025-01-28T13:12:00.634237Z"
    }
   },
   "cell_type": "code",
   "source": [
    "train_df, test_df = train_test_split(\n",
    "    training_df,\n",
    "    test_size=0.2,\n",
    "    random_state=69,\n",
    "    stratify=training_df[\"assistant\"]\n",
    ")"
   ],
   "id": "237c6fb36fecad94",
   "outputs": [],
   "execution_count": 12
  },
  {
   "metadata": {
    "ExecuteTime": {
     "end_time": "2025-01-28T13:12:00.651823Z",
     "start_time": "2025-01-28T13:12:00.647819Z"
    }
   },
   "cell_type": "code",
   "source": [
    "print(\"Train set distribution:\")\n",
    "print(train_df['assistant'].value_counts(normalize=True))\n",
    "print(\"Test set distribution:\")\n",
    "print(test_df['assistant'].value_counts(normalize=True))\n",
    "\n",
    "print(f\"\\nTotal samples: {len(training_df)}\")\n",
    "print(f\"Training samples: {len(train_df)}\")\n",
    "print(f\"Test samples: {len(test_df)}\")"
   ],
   "id": "8a9f7e1c09dcd8ee",
   "outputs": [
    {
     "name": "stdout",
     "output_type": "stream",
     "text": [
      "Train set distribution:\n",
      "assistant\n",
      "false    0.607105\n",
      "true     0.392895\n",
      "Name: proportion, dtype: float64\n",
      "Test set distribution:\n",
      "assistant\n",
      "false    0.606971\n",
      "true     0.393029\n",
      "Name: proportion, dtype: float64\n",
      "\n",
      "Total samples: 18650\n",
      "Training samples: 14920\n",
      "Test samples: 3730\n"
     ]
    }
   ],
   "execution_count": 13
  },
  {
   "metadata": {
    "ExecuteTime": {
     "end_time": "2025-01-28T13:12:27.212330Z",
     "start_time": "2025-01-28T13:12:26.818530Z"
    }
   },
   "cell_type": "code",
   "source": [
    "train_df.to_csv(\"../processed_data/train.csv\", index=False)\n",
    "test_df.to_csv(\"../processed_data/test.csv\", index=False)"
   ],
   "id": "9693dac5d843f274",
   "outputs": [],
   "execution_count": 14
  }
 ],
 "metadata": {
  "kernelspec": {
   "display_name": "Python 3",
   "language": "python",
   "name": "python3"
  },
  "language_info": {
   "codemirror_mode": {
    "name": "ipython",
    "version": 2
   },
   "file_extension": ".py",
   "mimetype": "text/x-python",
   "name": "python",
   "nbconvert_exporter": "python",
   "pygments_lexer": "ipython2",
   "version": "2.7.6"
  }
 },
 "nbformat": 4,
 "nbformat_minor": 5
}
