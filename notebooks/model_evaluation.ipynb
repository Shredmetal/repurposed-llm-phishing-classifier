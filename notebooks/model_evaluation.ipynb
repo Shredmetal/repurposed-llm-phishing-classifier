{
 "cells": [
  {
   "cell_type": "code",
   "execution_count": null,
   "id": "initial_id",
   "metadata": {
    "collapsed": true
   },
   "outputs": [],
   "source": [
    "import torch\n",
    "from sklearn.metrics import accuracy_score, precision_score, recall_score, f1_score\n",
    "\n",
    "from transformers import PreTrainedTokenizerFast\n",
    "from typing import Dict, Tuple\n",
    "from transformers import AutoModelForCausalLM\n",
    "\n",
    "import pandas as pd"
   ]
  },
  {
   "metadata": {},
   "cell_type": "code",
   "outputs": [],
   "execution_count": null,
   "source": [
    "def evaluate_llm_classifier(model_path: str, test_data: pd.DataFrame, tokenizer: PreTrainedTokenizerFast, tokenizer_template: str) -> Tuple[Dict[str, float | int], Dict[str, float]]:\n",
    "\n",
    "    model = AutoModelForCausalLM.from_pretrained(model_path)(\n",
    "        model_path=model_path,\n",
    "        torch_dtype=torch.bfloat16,\n",
    "        device_map=\"auto\"\n",
    "    )\n",
    "\n",
    "    tokenizer.chat_template(tokenizer_template)\n",
    "\n",
    "    true_labels = []\n",
    "    predicted_labels = []\n",
    "    format_violations = []\n",
    "\n",
    "    for _, row in test_data.iterrows():\n",
    "\n",
    "        messages = [\n",
    "            {\"role\": \"system\", \"content\": row[\"system\"]},\n",
    "            {\"role\": \"user\", \"content\": row[\"user\"]},\n",
    "        ]\n",
    "\n",
    "        prompt = tokenizer.apply_chat_template(messages, tokenize=False)\n",
    "\n",
    "        inputs = tokenizer(prompt, return_tensors=\"pt\").to(model.device)\n",
    "\n",
    "        with torch.no_grad():\n",
    "            outputs = model.generate(\n",
    "                **inputs,\n",
    "                max_new_tokens=5\n",
    "            )\n",
    "\n",
    "        prediction = tokenizer.decode(outputs[0], skip_special_tokens=True)\n",
    "\n",
    "        pred_label = \"true\" in prediction.lower()\n",
    "        true_label = row[\"assistant\"].lower() == \"true\"\n",
    "\n",
    "        if prediction != \"true\" or prediction != \"false\":\n",
    "            format_violations.append(messages)\n",
    "\n",
    "        true_labels.append(true_label)\n",
    "        predicted_labels.append(pred_label)\n",
    "\n",
    "        metrics = {\n",
    "            \"accuracy\": accuracy_score(true_labels, predicted_labels),\n",
    "            \"precision\": precision_score(true_labels, predicted_labels),\n",
    "            \"recall\": recall_score(true_labels, predicted_labels),\n",
    "            \"f1_score\": f1_score(true_labels, predicted_labels),\n",
    "            \"format_violations\": len(format_violations)\n",
    "        }\n",
    "\n",
    "        return format_violations, metrics\n"
   ],
   "id": "1257b6e95d56603d"
  }
 ],
 "metadata": {
  "kernelspec": {
   "display_name": "Python 3",
   "language": "python",
   "name": "python3"
  },
  "language_info": {
   "codemirror_mode": {
    "name": "ipython",
    "version": 2
   },
   "file_extension": ".py",
   "mimetype": "text/x-python",
   "name": "python",
   "nbconvert_exporter": "python",
   "pygments_lexer": "ipython2",
   "version": "2.7.6"
  }
 },
 "nbformat": 4,
 "nbformat_minor": 5
}
