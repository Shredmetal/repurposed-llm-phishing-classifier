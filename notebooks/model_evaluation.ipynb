{
 "cells": [
  {
   "cell_type": "code",
   "id": "initial_id",
   "metadata": {
    "collapsed": true,
    "ExecuteTime": {
     "end_time": "2025-02-01T04:49:10.995504Z",
     "start_time": "2025-02-01T04:49:08.572269Z"
    }
   },
   "source": [
    "import warnings\n",
    "import torch\n",
    "import string\n",
    "import pandas as pd\n",
    "import matplotlib.pyplot as plt\n",
    "import seaborn as sns\n",
    "\n",
    "from sklearn.metrics import accuracy_score, precision_score, recall_score, f1_score, confusion_matrix, classification_report\n",
    "from transformers import AutoTokenizer, PreTrainedTokenizerFast, AutoModelForCausalLM, logging\n",
    "from typing import Dict, Tuple, Union\n",
    "from peft import PeftModel\n",
    "\n",
    "warnings.filterwarnings(\"ignore\", message=\"Setting `pad_token_id` to `eos_token_id`:.*\")\n",
    "logging.set_verbosity_error()\n"
   ],
   "outputs": [],
   "execution_count": 1
  },
  {
   "metadata": {
    "ExecuteTime": {
     "end_time": "2025-02-01T04:49:11.003009Z",
     "start_time": "2025-02-01T04:49:10.997507Z"
    }
   },
   "cell_type": "code",
   "source": [
    "def evaluate_llm_classifier(base_model_path: str, lora_adapter_path: Union[str | None], test_data: pd.DataFrame, tokenizer: PreTrainedTokenizerFast) -> Tuple[Dict[str, float | int], Dict[str, float]]:\n",
    "\n",
    "    base_model = AutoModelForCausalLM.from_pretrained(\n",
    "        base_model_path,\n",
    "        torch_dtype=torch.bfloat16,\n",
    "        device_map=\"auto\"\n",
    "    )\n",
    "\n",
    "    if lora_adapter_path is not None:\n",
    "        model = PeftModel.from_pretrained(\n",
    "            base_model,\n",
    "            lora_adapter_path,\n",
    "            torch_dtype=torch.bfloat16,\n",
    "            device_map=\"auto\"\n",
    "        )\n",
    "    else:\n",
    "        model = base_model\n",
    "\n",
    "    special_tokens = {\n",
    "        \"additional_special_tokens\": [\n",
    "            \"<|begin_of_text|>\",\n",
    "            \"<|start_header_id|>\",\n",
    "            \"<|end_header_id|>\",\n",
    "            \"<|eot_id|>\"\n",
    "        ]\n",
    "    }\n",
    "    tokenizer.add_special_tokens(special_tokens)\n",
    "    base_model.resize_token_embeddings(len(tokenizer))\n",
    "\n",
    "    true_labels = []\n",
    "    predicted_labels = []\n",
    "    format_violations = []\n",
    "\n",
    "    for _, row in test_data.iterrows():\n",
    "\n",
    "        messages = [\n",
    "            {\"role\": \"system\", \"content\": row[\"system\"]},\n",
    "            {\"role\": \"user\", \"content\": f\"{row['user']}\"},\n",
    "            {\"role\": \"assistant\", \"content\": \"\"},\n",
    "        ]\n",
    "\n",
    "        input_ids = tokenizer.apply_chat_template(\n",
    "            messages,\n",
    "            return_tensors=\"pt\",\n",
    "            add_generation_prompt=True\n",
    "        ).to(model.device)\n",
    "\n",
    "        with torch.no_grad():\n",
    "            outputs = model.generate(\n",
    "                input_ids=input_ids,\n",
    "                do_sample=False,\n",
    "                temperature=None,\n",
    "                max_new_tokens=1,\n",
    "                top_p=None,\n",
    "                eos_token_id=tokenizer.convert_tokens_to_ids(\"<|eot_id|>\"),\n",
    "                pad_token_id=None\n",
    "            )\n",
    "\n",
    "        input_length = input_ids.size(1)\n",
    "        prediction = tokenizer.decode(outputs[0][input_length:], skip_special_tokens=True)\n",
    "\n",
    "        pred_label = \"true\" in prediction.lower()\n",
    "        true_label = row[\"assistant\"] == True\n",
    "\n",
    "        if prediction not in [\"True\", \"False\"]:\n",
    "            format_violations.append(prediction)\n",
    "\n",
    "        true_labels.append(true_label)\n",
    "        predicted_labels.append(pred_label)\n",
    "\n",
    "    true_labels = [int(label) for label in true_labels]\n",
    "    predicted_labels = [int(label) for label in predicted_labels]\n",
    "\n",
    "    format_violation_score = (1 - len(format_violations) / len(test_data))\n",
    "\n",
    "    metrics = {\n",
    "        \"accuracy\": accuracy_score(true_labels, predicted_labels),\n",
    "        \"precision\": precision_score(true_labels, predicted_labels),\n",
    "        \"recall\": recall_score(true_labels, predicted_labels),\n",
    "        \"f1_score\": f1_score(true_labels, predicted_labels),\n",
    "        \"format_violations\": len(format_violations),\n",
    "        \"format_violation_score\": format_violation_score,\n",
    "        \"true_labels\": true_labels,\n",
    "        \"predicted_labels\": predicted_labels,\n",
    "    }\n",
    "\n",
    "    evaluation_confusion_matrix = confusion_matrix(true_labels, predicted_labels)\n",
    "    plt.figure(figsize=(10,8))\n",
    "    sns.heatmap(evaluation_confusion_matrix, annot=True, fmt=\"d\", cmap=\"Blues\")\n",
    "    plt.title(\"Confusion Matrix\")\n",
    "    plt.ylabel(\"True label\")\n",
    "    plt.xlabel(\"Predicted label\")\n",
    "    plt.show()\n",
    "\n",
    "    return format_violations, metrics\n"
   ],
   "id": "1257b6e95d56603d",
   "outputs": [],
   "execution_count": 2
  },
  {
   "metadata": {
    "ExecuteTime": {
     "end_time": "2025-02-01T04:49:11.123645Z",
     "start_time": "2025-02-01T04:49:11.073333Z"
    }
   },
   "cell_type": "code",
   "source": "test_df = pd.read_csv(\"../processed_data/test.csv\")",
   "id": "2e1fc73c1422c2c2",
   "outputs": [],
   "execution_count": 3
  },
  {
   "metadata": {
    "ExecuteTime": {
     "end_time": "2025-02-01T04:49:11.131073Z",
     "start_time": "2025-02-01T04:49:11.129073Z"
    }
   },
   "cell_type": "code",
   "source": "base_model_path = \"../models/llama_models/llama-3.2-3B-Instruct\"",
   "id": "3c3747358cda3ed4",
   "outputs": [],
   "execution_count": 4
  },
  {
   "metadata": {
    "ExecuteTime": {
     "end_time": "2025-02-01T04:49:11.340373Z",
     "start_time": "2025-02-01T04:49:11.135084Z"
    }
   },
   "cell_type": "code",
   "source": [
    "tokenizer = AutoTokenizer.from_pretrained(\n",
    "    base_model_path,\n",
    "    trust_remote_code=True,\n",
    "    bos_token=None,\n",
    "    bos_token_id=None\n",
    ")"
   ],
   "id": "2ad084e8e1bf9f80",
   "outputs": [],
   "execution_count": 5
  },
  {
   "metadata": {
    "ExecuteTime": {
     "end_time": "2025-02-01T04:49:11.355841Z",
     "start_time": "2025-02-01T04:49:11.353880Z"
    }
   },
   "cell_type": "code",
   "source": [
    "custom_chat_template = \"\"\"{% if not date_string is defined %}{% set date_string = \"01 Feb 2025\" %}{% endif %}{% for message in messages %}{% if message['role'] == 'system' %}<|start_header_id|>system<|end_header_id|>\n",
    "\n",
    "Cutting Knowledge Date: December 2023\n",
    "Today Date: {{ date_string }}\n",
    "\n",
    "{{ message['content'] }}<|eot_id|>{% elif message['role'] == 'user' %}<|start_header_id|>user<|end_header_id|>\n",
    "\n",
    "{{ message['content'] }}<|eot_id|>{% elif message['role'] == 'assistant' and not loop.last %}<|start_header_id|>assistant<|end_header_id|>\n",
    "\n",
    "{{ message['content'] }}<|eot_id|>{% elif message['role'] == 'assistant' and loop.last %}<|start_header_id|>assistant<|end_header_id|>\n",
    "\n",
    "{% endif %}{% endfor %}\"\"\""
   ],
   "id": "1e06b1a64397551d",
   "outputs": [],
   "execution_count": 6
  },
  {
   "metadata": {
    "ExecuteTime": {
     "end_time": "2025-02-01T04:49:11.371934Z",
     "start_time": "2025-02-01T04:49:11.369014Z"
    }
   },
   "cell_type": "code",
   "source": "print(tokenizer.chat_template)",
   "id": "ee59c297225f4891",
   "outputs": [
    {
     "name": "stdout",
     "output_type": "stream",
     "text": [
      "{{- bos_token }}\n",
      "{%- if custom_tools is defined %}\n",
      "    {%- set tools = custom_tools %}\n",
      "{%- endif %}\n",
      "{%- if not tools_in_user_message is defined %}\n",
      "    {%- set tools_in_user_message = true %}\n",
      "{%- endif %}\n",
      "{%- if not date_string is defined %}\n",
      "    {%- if strftime_now is defined %}\n",
      "        {%- set date_string = strftime_now(\"%d %b %Y\") %}\n",
      "    {%- else %}\n",
      "        {%- set date_string = \"26 Jul 2024\" %}\n",
      "    {%- endif %}\n",
      "{%- endif %}\n",
      "{%- if not tools is defined %}\n",
      "    {%- set tools = none %}\n",
      "{%- endif %}\n",
      "\n",
      "{#- This block extracts the system message, so we can slot it into the right place. #}\n",
      "{%- if messages[0]['role'] == 'system' %}\n",
      "    {%- set system_message = messages[0]['content']|trim %}\n",
      "    {%- set messages = messages[1:] %}\n",
      "{%- else %}\n",
      "    {%- set system_message = \"\" %}\n",
      "{%- endif %}\n",
      "\n",
      "{#- System message #}\n",
      "{{- \"<|start_header_id|>system<|end_header_id|>\\n\\n\" }}\n",
      "{%- if tools is not none %}\n",
      "    {{- \"Environment: ipython\\n\" }}\n",
      "{%- endif %}\n",
      "{{- \"Cutting Knowledge Date: December 2023\\n\" }}\n",
      "{{- \"Today Date: \" + date_string + \"\\n\\n\" }}\n",
      "{%- if tools is not none and not tools_in_user_message %}\n",
      "    {{- \"You have access to the following functions. To call a function, please respond with JSON for a function call.\" }}\n",
      "    {{- 'Respond in the format {\"name\": function name, \"parameters\": dictionary of argument name and its value}.' }}\n",
      "    {{- \"Do not use variables.\\n\\n\" }}\n",
      "    {%- for t in tools %}\n",
      "        {{- t | tojson(indent=4) }}\n",
      "        {{- \"\\n\\n\" }}\n",
      "    {%- endfor %}\n",
      "{%- endif %}\n",
      "{{- system_message }}\n",
      "{{- \"<|eot_id|>\" }}\n",
      "\n",
      "{#- Custom tools are passed in a user message with some extra guidance #}\n",
      "{%- if tools_in_user_message and not tools is none %}\n",
      "    {#- Extract the first user message so we can plug it in here #}\n",
      "    {%- if messages | length != 0 %}\n",
      "        {%- set first_user_message = messages[0]['content']|trim %}\n",
      "        {%- set messages = messages[1:] %}\n",
      "    {%- else %}\n",
      "        {{- raise_exception(\"Cannot put tools in the first user message when there's no first user message!\") }}\n",
      "{%- endif %}\n",
      "    {{- '<|start_header_id|>user<|end_header_id|>\\n\\n' -}}\n",
      "    {{- \"Given the following functions, please respond with a JSON for a function call \" }}\n",
      "    {{- \"with its proper arguments that best answers the given prompt.\\n\\n\" }}\n",
      "    {{- 'Respond in the format {\"name\": function name, \"parameters\": dictionary of argument name and its value}.' }}\n",
      "    {{- \"Do not use variables.\\n\\n\" }}\n",
      "    {%- for t in tools %}\n",
      "        {{- t | tojson(indent=4) }}\n",
      "        {{- \"\\n\\n\" }}\n",
      "    {%- endfor %}\n",
      "    {{- first_user_message + \"<|eot_id|>\"}}\n",
      "{%- endif %}\n",
      "\n",
      "{%- for message in messages %}\n",
      "    {%- if not (message.role == 'ipython' or message.role == 'tool' or 'tool_calls' in message) %}\n",
      "        {{- '<|start_header_id|>' + message['role'] + '<|end_header_id|>\\n\\n'+ message['content'] | trim + '<|eot_id|>' }}\n",
      "    {%- elif 'tool_calls' in message %}\n",
      "        {%- if not message.tool_calls|length == 1 %}\n",
      "            {{- raise_exception(\"This model only supports single tool-calls at once!\") }}\n",
      "        {%- endif %}\n",
      "        {%- set tool_call = message.tool_calls[0].function %}\n",
      "        {{- '<|start_header_id|>assistant<|end_header_id|>\\n\\n' -}}\n",
      "        {{- '{\"name\": \"' + tool_call.name + '\", ' }}\n",
      "        {{- '\"parameters\": ' }}\n",
      "        {{- tool_call.arguments | tojson }}\n",
      "        {{- \"}\" }}\n",
      "        {{- \"<|eot_id|>\" }}\n",
      "    {%- elif message.role == \"tool\" or message.role == \"ipython\" %}\n",
      "        {{- \"<|start_header_id|>ipython<|end_header_id|>\\n\\n\" }}\n",
      "        {%- if message.content is mapping or message.content is iterable %}\n",
      "            {{- message.content | tojson }}\n",
      "        {%- else %}\n",
      "            {{- message.content }}\n",
      "        {%- endif %}\n",
      "        {{- \"<|eot_id|>\" }}\n",
      "    {%- endif %}\n",
      "{%- endfor %}\n",
      "{%- if add_generation_prompt %}\n",
      "    {{- '<|start_header_id|>assistant<|end_header_id|>\\n\\n' }}\n",
      "{%- endif %}\n",
      "\n"
     ]
    }
   ],
   "execution_count": 7
  },
  {
   "metadata": {
    "ExecuteTime": {
     "end_time": "2025-02-01T04:49:11.388980Z",
     "start_time": "2025-02-01T04:49:11.385976Z"
    }
   },
   "cell_type": "code",
   "source": [
    "tokenizer.chat_template = None\n",
    "\n",
    "tokenizer.chat_template = custom_chat_template"
   ],
   "id": "4d44f218cdc08d1f",
   "outputs": [],
   "execution_count": 8
  },
  {
   "metadata": {},
   "cell_type": "markdown",
   "source": "# Base Performance",
   "id": "37b1f37f5f5136c4"
  },
  {
   "metadata": {
    "ExecuteTime": {
     "end_time": "2025-02-01T04:51:45.468241Z",
     "start_time": "2025-02-01T04:49:11.404189Z"
    }
   },
   "cell_type": "code",
   "source": [
    "base_model_format_violations, base_model_metrics = evaluate_llm_classifier(\n",
    "    base_model_path=base_model_path,\n",
    "    lora_adapter_path=None,\n",
    "    test_data=test_df,\n",
    "    tokenizer=tokenizer\n",
    ")"
   ],
   "id": "bfdf0e9bc1b4c888",
   "outputs": [
    {
     "data": {
      "text/plain": [
       "Loading checkpoint shards:   0%|          | 0/2 [00:00<?, ?it/s]"
      ],
      "application/vnd.jupyter.widget-view+json": {
       "version_major": 2,
       "version_minor": 0,
       "model_id": "2a0bb926292b4b43b42fd63046258766"
      }
     },
     "metadata": {},
     "output_type": "display_data"
    },
    {
     "data": {
      "text/plain": [
       "<Figure size 1000x800 with 2 Axes>"
      ],
      "image/png": "[encoded data removed]"
     },
     "metadata": {},
     "output_type": "display_data"
    }
   ],
   "execution_count": 9
  },
  {
   "metadata": {
    "ExecuteTime": {
     "end_time": "2025-02-01T04:51:45.505415Z",
     "start_time": "2025-02-01T04:51:45.499019Z"
    }
   },
   "cell_type": "code",
   "source": [
    "cls_report = classification_report(base_model_metrics[\"true_labels\"], base_model_metrics[\"predicted_labels\"], target_names=[\"Safe\", \"Phishing\"])\n",
    "\n",
    "print(cls_report)"
   ],
   "id": "9553969782d817c6",
   "outputs": [
    {
     "name": "stdout",
     "output_type": "stream",
     "text": [
      "              precision    recall  f1-score   support\n",
      "\n",
      "        Safe       0.62      0.98      0.76      2264\n",
      "    Phishing       0.70      0.09      0.16      1466\n",
      "\n",
      "    accuracy                           0.63      3730\n",
      "   macro avg       0.66      0.53      0.46      3730\n",
      "weighted avg       0.65      0.63      0.52      3730\n",
      "\n"
     ]
    }
   ],
   "execution_count": 10
  },
  {
   "metadata": {
    "ExecuteTime": {
     "end_time": "2025-02-01T04:51:45.517717Z",
     "start_time": "2025-02-01T04:51:45.514421Z"
    }
   },
   "cell_type": "code",
   "source": [
    "print(f\"Accuracy: {base_model_metrics['accuracy']}\")\n",
    "print(f\"Precision: {base_model_metrics['precision']}\")\n",
    "print(f\"Recall: {base_model_metrics['recall']}\")\n",
    "print(f\"F1-score: {base_model_metrics['f1_score']}\")\n",
    "print(f\"Format Violations: {base_model_metrics['format_violations']}\")\n",
    "print(f\"Format Violation Score: {base_model_metrics['format_violation_score']}\")"
   ],
   "id": "1b81fb8ff23b4b12",
   "outputs": [
    {
     "name": "stdout",
     "output_type": "stream",
     "text": [
      "Accuracy: 0.6270777479892762\n",
      "Precision: 0.7005347593582888\n",
      "Recall: 0.08935879945429741\n",
      "F1-score: 0.15849969751966123\n",
      "Format Violations: 3730\n",
      "Format Violation Score: 0.0\n"
     ]
    }
   ],
   "execution_count": 11
  },
  {
   "metadata": {},
   "cell_type": "markdown",
   "source": "# Checkpoint 467",
   "id": "9a56c617bdb5cfee"
  },
  {
   "metadata": {
    "ExecuteTime": {
     "end_time": "2025-02-01T04:51:45.535568Z",
     "start_time": "2025-02-01T04:51:45.533065Z"
    }
   },
   "cell_type": "code",
   "source": "checkpoint_1868_adapter_path = \"../models/tuned_models/llama-3.2-3B-phishing-classifier-causal/checkpoint-1868\"",
   "id": "d0d74d203f1ec0fb",
   "outputs": [],
   "execution_count": 12
  },
  {
   "metadata": {
    "ExecuteTime": {
     "end_time": "2025-02-01T04:55:38.246998Z",
     "start_time": "2025-02-01T04:51:45.551598Z"
    }
   },
   "cell_type": "code",
   "source": [
    "checkpoint_1868_format_violations, checkpoint_1858_metrics = evaluate_llm_classifier(\n",
    "    base_model_path=base_model_path,\n",
    "    lora_adapter_path=checkpoint_1868_adapter_path,\n",
    "    test_data=test_df,\n",
    "    tokenizer=tokenizer\n",
    ")"
   ],
   "id": "87cc190b38d8a3f6",
   "outputs": [
    {
     "data": {
      "text/plain": [
       "Loading checkpoint shards:   0%|          | 0/2 [00:00<?, ?it/s]"
      ],
      "application/vnd.jupyter.widget-view+json": {
       "version_major": 2,
       "version_minor": 0,
       "model_id": "4581173cceb34cf9be1d324b61cf9528"
      }
     },
     "metadata": {},
     "output_type": "display_data"
    },
    {
     "name": "stderr",
     "output_type": "stream",
     "text": [
      "Some parameters are on the meta device because they were offloaded to the cpu.\n"
     ]
    },
    {
     "data": {
      "text/plain": [
       "<Figure size 1000x800 with 2 Axes>"
      ],
      "image/png": "[encoded data removed]"
     },
     "metadata": {},
     "output_type": "display_data"
    }
   ],
   "execution_count": 13
  },
  {
   "metadata": {
    "ExecuteTime": {
     "end_time": "2025-02-01T04:55:38.286058Z",
     "start_time": "2025-02-01T04:55:38.279443Z"
    }
   },
   "cell_type": "code",
   "source": [
    "cls_report = classification_report(checkpoint_1858_metrics[\"true_labels\"], checkpoint_1858_metrics[\"predicted_labels\"], target_names=[\"Safe\", \"Phishing\"])\n",
    "\n",
    "print(cls_report)"
   ],
   "id": "5b951abbd0d03bd2",
   "outputs": [
    {
     "name": "stdout",
     "output_type": "stream",
     "text": [
      "              precision    recall  f1-score   support\n",
      "\n",
      "        Safe       0.98      0.98      0.98      2264\n",
      "    Phishing       0.96      0.97      0.96      1466\n",
      "\n",
      "    accuracy                           0.97      3730\n",
      "   macro avg       0.97      0.97      0.97      3730\n",
      "weighted avg       0.97      0.97      0.97      3730\n",
      "\n"
     ]
    }
   ],
   "execution_count": 14
  },
  {
   "metadata": {
    "ExecuteTime": {
     "end_time": "2025-02-01T04:55:38.309720Z",
     "start_time": "2025-02-01T04:55:38.305713Z"
    }
   },
   "cell_type": "code",
   "source": [
    "print(f\"Accuracy: {checkpoint_1858_metrics['accuracy']}\")\n",
    "print(f\"Precision: {checkpoint_1858_metrics['precision']}\")\n",
    "print(f\"Recall: {checkpoint_1858_metrics['recall']}\")\n",
    "print(f\"F1-score: {checkpoint_1858_metrics['f1_score']}\")\n",
    "print(f\"Format Violations: {checkpoint_1858_metrics['format_violations']}\")\n",
    "print(f\"Format Violation Score: {checkpoint_1858_metrics['format_violation_score']}\")"
   ],
   "id": "39d7383a1deae579",
   "outputs": [
    {
     "name": "stdout",
     "output_type": "stream",
     "text": [
      "Accuracy: 0.9723860589812332\n",
      "Precision: 0.9620338983050848\n",
      "Recall: 0.9679399727148704\n",
      "F1-score: 0.9649778986739205\n",
      "Format Violations: 22\n",
      "Format Violation Score: 0.9941018766756032\n"
     ]
    }
   ],
   "execution_count": 15
  }
 ],
 "metadata": {
  "kernelspec": {
   "display_name": "Python 3",
   "language": "python",
   "name": "python3"
  },
  "language_info": {
   "codemirror_mode": {
    "name": "ipython",
    "version": 2
   },
   "file_extension": ".py",
   "mimetype": "text/x-python",
   "name": "python",
   "nbconvert_exporter": "python",
   "pygments_lexer": "ipython2",
   "version": "2.7.6"
  }
 },
 "nbformat": 4,
 "nbformat_minor": 5
}
