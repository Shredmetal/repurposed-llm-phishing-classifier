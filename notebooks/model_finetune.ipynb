{
 "cells": [
  {
   "metadata": {
    "ExecuteTime": {
     "end_time": "2025-01-28T18:21:20.631802Z",
     "start_time": "2025-01-28T18:21:19.722825Z"
    }
   },
   "cell_type": "code",
   "source": [
    "import torch\n",
    "\n",
    "print(f\"CUDA available: {torch.cuda.is_available()}\")\n",
    "print(f\"CUDA version: {torch.version.cuda}\")\n",
    "if torch.cuda.is_available():\n",
    "    print(f\"GPU Device: {torch.cuda.get_device_name(0)}\")\n"
   ],
   "id": "6c66ffe4655abc5e",
   "outputs": [
    {
     "name": "stdout",
     "output_type": "stream",
     "text": [
      "CUDA available: True\n",
      "CUDA version: 12.1\n",
      "GPU Device: NVIDIA GeForce RTX 4090\n"
     ]
    }
   ],
   "execution_count": 1
  },
  {
   "metadata": {
    "ExecuteTime": {
     "end_time": "2025-01-28T18:21:20.639144Z",
     "start_time": "2025-01-28T18:21:20.633849Z"
    }
   },
   "cell_type": "code",
   "source": [
    "from dotenv import load_dotenv\n",
    "import os\n",
    "\n",
    "load_dotenv()\n",
    "\n",
    "huggingface_api_key = os.getenv(\"HUGGINGFACE_API_KEY\")\n",
    "wandb_api_key = os.getenv(\"WANDB_API_KEY\")\n",
    "\n",
    "if not huggingface_api_key:\n",
    "    raise ValueError(\"HUGGINGFACE_API_KEY not set\")\n",
    "\n",
    "if not wandb_api_key:\n",
    "    raise ValueError(\"WANDB_API_KEY not set\")"
   ],
   "id": "e533277720089dcf",
   "outputs": [],
   "execution_count": 2
  },
  {
   "metadata": {
    "ExecuteTime": {
     "end_time": "2025-01-28T18:21:23.277436Z",
     "start_time": "2025-01-28T18:21:20.708055Z"
    }
   },
   "cell_type": "code",
   "source": [
    "from transformers import (\n",
    "    AutoModelForCausalLM,\n",
    "    AutoTokenizer,\n",
    "    TrainingArguments\n",
    ")\n",
    "\n",
    "from peft import (\n",
    "    LoraConfig,\n",
    "    get_peft_model\n",
    ")\n",
    "\n",
    "import wandb\n",
    "import pandas as pd\n",
    "from datasets import Dataset\n",
    "from trl import SFTTrainer"
   ],
   "id": "9e21f997b648e218",
   "outputs": [],
   "execution_count": 3
  },
  {
   "metadata": {
    "ExecuteTime": {
     "end_time": "2025-01-28T18:21:23.546031Z",
     "start_time": "2025-01-28T18:21:23.281252Z"
    }
   },
   "cell_type": "code",
   "source": [
    "from huggingface_hub import login\n",
    "\n",
    "login(token=huggingface_api_key)"
   ],
   "id": "aaafa79785bc72a5",
   "outputs": [],
   "execution_count": 4
  },
  {
   "metadata": {
    "ExecuteTime": {
     "end_time": "2025-01-28T18:21:25.383136Z",
     "start_time": "2025-01-28T18:21:23.550248Z"
    }
   },
   "cell_type": "code",
   "source": [
    "wandb.login(key=wandb_api_key)\n",
    "\n",
    "run = wandb.init(\n",
    "    project=\"repurposed-llm-phishing-classifier\",\n",
    "    job_type=\"train\",\n",
    "    anonymous=\"allow\"\n",
    ")"
   ],
   "id": "1e197bf918aa209e",
   "outputs": [
    {
     "name": "stderr",
     "output_type": "stream",
     "text": [
      "wandb: Currently logged in as: morganj-lee01 (morganj-lee01-team). Use `wandb login --relogin` to force relogin\n",
      "wandb: WARNING If you're specifying your api key in code, ensure this code is not shared publicly.\n",
      "wandb: WARNING Consider setting the WANDB_API_KEY environment variable, or running `wandb login` from the command line.\n",
      "wandb: Appending key for api.wandb.ai to your netrc file: C:\\Users\\morga\\_netrc\n",
      "wandb: Using wandb-core as the SDK backend.  Please refer to https://wandb.me/wandb-core for more information.\n"
     ]
    },
    {
     "data": {
      "text/plain": [
       "<IPython.core.display.HTML object>"
      ],
      "text/html": [
       "Tracking run with wandb version 0.19.4"
      ]
     },
     "metadata": {},
     "output_type": "display_data"
    },
    {
     "data": {
      "text/plain": [
       "<IPython.core.display.HTML object>"
      ],
      "text/html": [
       "Run data is saved locally in <code>E:\\PyCharm\\PycharmProjects\\repurposed-llm-phishing-classifier\\notebooks\\wandb\\run-20250129_022124-hphrnlup</code>"
      ]
     },
     "metadata": {},
     "output_type": "display_data"
    },
    {
     "data": {
      "text/plain": [
       "<IPython.core.display.HTML object>"
      ],
      "text/html": [
       "Syncing run <strong><a href='https://wandb.ai/morganj-lee01-team/repurposed-llm-phishing-classifier/runs/hphrnlup?apiKey=2a1b3aadd29eb165c80f5d6458a4058c07a5a986' target=\"_blank\">atomic-elevator-10</a></strong> to <a href='https://wandb.ai/morganj-lee01-team/repurposed-llm-phishing-classifier?apiKey=2a1b3aadd29eb165c80f5d6458a4058c07a5a986' target=\"_blank\">Weights & Biases</a> (<a href='https://wandb.me/developer-guide' target=\"_blank\">docs</a>)<br>"
      ]
     },
     "metadata": {},
     "output_type": "display_data"
    },
    {
     "data": {
      "text/plain": [
       "<IPython.core.display.HTML object>"
      ],
      "text/html": [
       " View project at <a href='https://wandb.ai/morganj-lee01-team/repurposed-llm-phishing-classifier?apiKey=2a1b3aadd29eb165c80f5d6458a4058c07a5a986' target=\"_blank\">https://wandb.ai/morganj-lee01-team/repurposed-llm-phishing-classifier?apiKey=2a1b3aadd29eb165c80f5d6458a4058c07a5a986</a>"
      ]
     },
     "metadata": {},
     "output_type": "display_data"
    },
    {
     "data": {
      "text/plain": [
       "<IPython.core.display.HTML object>"
      ],
      "text/html": [
       " View run at <a href='https://wandb.ai/morganj-lee01-team/repurposed-llm-phishing-classifier/runs/hphrnlup?apiKey=2a1b3aadd29eb165c80f5d6458a4058c07a5a986' target=\"_blank\">https://wandb.ai/morganj-lee01-team/repurposed-llm-phishing-classifier/runs/hphrnlup?apiKey=2a1b3aadd29eb165c80f5d6458a4058c07a5a986</a>"
      ]
     },
     "metadata": {},
     "output_type": "display_data"
    },
    {
     "data": {
      "text/plain": [
       "<IPython.core.display.HTML object>"
      ],
      "text/html": [
       "Do NOT share these links with anyone. They can be used to claim your runs."
      ]
     },
     "metadata": {},
     "output_type": "display_data"
    }
   ],
   "execution_count": 5
  },
  {
   "metadata": {
    "ExecuteTime": {
     "end_time": "2025-01-28T18:21:25.390451Z",
     "start_time": "2025-01-28T18:21:25.387327Z"
    }
   },
   "cell_type": "code",
   "source": [
    "base_model_path = \"../models/llama_models/llama-3.2-3B\"\n",
    "new_model_path = \"../models/tuned_models/llama-3.2-3B-phishing-classifier\"\n",
    "train_dataset_path = \"../processed_data/train.csv\"\n",
    "test_dataset_path = \"../processed_data/test.csv\""
   ],
   "id": "510dfcf5597f3943",
   "outputs": [],
   "execution_count": 6
  },
  {
   "metadata": {
    "ExecuteTime": {
     "end_time": "2025-01-28T18:21:25.669359Z",
     "start_time": "2025-01-28T18:21:25.394531Z"
    }
   },
   "cell_type": "code",
   "source": [
    "train_df = pd.read_csv(train_dataset_path)\n",
    "\n",
    "train_df.head()"
   ],
   "id": "a9e9e085312d0019",
   "outputs": [
    {
     "data": {
      "text/plain": [
       "                                              system  \\\n",
       "0  You are a classification system designed to ca...   \n",
       "1  You are a classification system designed to ca...   \n",
       "2  You are a classification system designed to ca...   \n",
       "3  You are a classification system designed to ca...   \n",
       "4  You are a classification system designed to ca...   \n",
       "\n",
       "                                                user  assistant  \n",
       "0  Message for review: write me back please year ...       True  \n",
       "1  Message for review: I just picked up Razor SDK...      False  \n",
       "2  Message for review: vacation goodmorning , i w...      False  \n",
       "3  Message for review: On Thu, Aug 08, 2002 at 11...      False  \n",
       "4  Message for review: wellheads shoreline has se...      False  "
      ],
      "text/html": [
       "<div>\n",
       "<style scoped>\n",
       "    .dataframe tbody tr th:only-of-type {\n",
       "        vertical-align: middle;\n",
       "    }\n",
       "\n",
       "    .dataframe tbody tr th {\n",
       "        vertical-align: top;\n",
       "    }\n",
       "\n",
       "    .dataframe thead th {\n",
       "        text-align: right;\n",
       "    }\n",
       "</style>\n",
       "<table border=\"1\" class=\"dataframe\">\n",
       "  <thead>\n",
       "    <tr style=\"text-align: right;\">\n",
       "      <th></th>\n",
       "      <th>system</th>\n",
       "      <th>user</th>\n",
       "      <th>assistant</th>\n",
       "    </tr>\n",
       "  </thead>\n",
       "  <tbody>\n",
       "    <tr>\n",
       "      <th>0</th>\n",
       "      <td>You are a classification system designed to ca...</td>\n",
       "      <td>Message for review: write me back please year ...</td>\n",
       "      <td>True</td>\n",
       "    </tr>\n",
       "    <tr>\n",
       "      <th>1</th>\n",
       "      <td>You are a classification system designed to ca...</td>\n",
       "      <td>Message for review: I just picked up Razor SDK...</td>\n",
       "      <td>False</td>\n",
       "    </tr>\n",
       "    <tr>\n",
       "      <th>2</th>\n",
       "      <td>You are a classification system designed to ca...</td>\n",
       "      <td>Message for review: vacation goodmorning , i w...</td>\n",
       "      <td>False</td>\n",
       "    </tr>\n",
       "    <tr>\n",
       "      <th>3</th>\n",
       "      <td>You are a classification system designed to ca...</td>\n",
       "      <td>Message for review: On Thu, Aug 08, 2002 at 11...</td>\n",
       "      <td>False</td>\n",
       "    </tr>\n",
       "    <tr>\n",
       "      <th>4</th>\n",
       "      <td>You are a classification system designed to ca...</td>\n",
       "      <td>Message for review: wellheads shoreline has se...</td>\n",
       "      <td>False</td>\n",
       "    </tr>\n",
       "  </tbody>\n",
       "</table>\n",
       "</div>"
      ]
     },
     "execution_count": 7,
     "metadata": {},
     "output_type": "execute_result"
    }
   ],
   "execution_count": 7
  },
  {
   "metadata": {
    "ExecuteTime": {
     "end_time": "2025-01-28T18:21:25.691893Z",
     "start_time": "2025-01-28T18:21:25.689452Z"
    }
   },
   "cell_type": "code",
   "source": [
    "model_config = {\n",
    "    \"torch_dtype\": torch.bfloat16,\n",
    "    \"attn_implementation\": \"flash_attention_2\",\n",
    "    \"device_map\": \"auto\"\n",
    "}"
   ],
   "id": "51d47220f5319bbf",
   "outputs": [],
   "execution_count": 8
  },
  {
   "metadata": {
    "ExecuteTime": {
     "end_time": "2025-01-28T18:21:28.440146Z",
     "start_time": "2025-01-28T18:21:25.712100Z"
    }
   },
   "cell_type": "code",
   "source": [
    "# WARNING: flash_attention_2 required pip install flash-attn which needs C++ builds tools\n",
    "# It also takes absolutely forever to compile because it's compiling CUDA kernels\n",
    "\n",
    "model = AutoModelForCausalLM.from_pretrained(\n",
    "    base_model_path,\n",
    "    device_map=model_config[\"device_map\"],\n",
    "    torch_dtype=model_config[\"torch_dtype\"],\n",
    "    attn_implementation=model_config[\"attn_implementation\"]\n",
    ")"
   ],
   "id": "ce3db8ac1a8d05c8",
   "outputs": [
    {
     "data": {
      "text/plain": [
       "Loading checkpoint shards:   0%|          | 0/2 [00:00<?, ?it/s]"
      ],
      "application/vnd.jupyter.widget-view+json": {
       "version_major": 2,
       "version_minor": 0,
       "model_id": "db599a912b824ab88fcbf08494defabe"
      }
     },
     "metadata": {},
     "output_type": "display_data"
    }
   ],
   "execution_count": 9
  },
  {
   "metadata": {
    "ExecuteTime": {
     "end_time": "2025-01-28T18:21:28.646710Z",
     "start_time": "2025-01-28T18:21:28.442151Z"
    }
   },
   "cell_type": "code",
   "source": "tokenizer = AutoTokenizer.from_pretrained(base_model_path, trust_remote_code=True)",
   "id": "8020da79ce3618a2",
   "outputs": [],
   "execution_count": 10
  },
  {
   "metadata": {
    "ExecuteTime": {
     "end_time": "2025-01-28T18:21:28.665402Z",
     "start_time": "2025-01-28T18:21:28.662816Z"
    }
   },
   "cell_type": "code",
   "source": [
    "tokenizer.chat_template = \"\"\"\n",
    "{% for message in messages %}\n",
    "<|begin_of_text|><|start_header_id|>{{ message['role'] }}<|end_header_id|>\n",
    "{{ message['content'] }}\n",
    "<|eot_id|>{% endfor %}\n",
    "\"\"\""
   ],
   "id": "956fdf1a8d3428b5",
   "outputs": [],
   "execution_count": 11
  },
  {
   "metadata": {
    "ExecuteTime": {
     "end_time": "2025-01-28T18:21:28.684226Z",
     "start_time": "2025-01-28T18:21:28.678847Z"
    }
   },
   "cell_type": "code",
   "source": [
    "test_messages = [\n",
    "    {\"role\": \"system\", \"content\": \"You are a classification system...\"},\n",
    "    {\"role\": \"user\", \"content\": \"Message for review: test\"},\n",
    "    {\"role\": \"assistant\", \"content\": \"true\"}\n",
    "]\n",
    "\n",
    "print(\"Test output:\", tokenizer.apply_chat_template(test_messages, tokenize=False))"
   ],
   "id": "d6a8d65164d0a1a3",
   "outputs": [
    {
     "name": "stdout",
     "output_type": "stream",
     "text": [
      "Test output: \n",
      "<|begin_of_text|><|start_header_id|>system<|end_header_id|>\n",
      "You are a classification system...\n",
      "<|eot_id|><|begin_of_text|><|start_header_id|>user<|end_header_id|>\n",
      "Message for review: test\n",
      "<|eot_id|><|begin_of_text|><|start_header_id|>assistant<|end_header_id|>\n",
      "true\n",
      "<|eot_id|>\n"
     ]
    }
   ],
   "execution_count": 12
  },
  {
   "metadata": {
    "ExecuteTime": {
     "end_time": "2025-01-28T18:21:29.408223Z",
     "start_time": "2025-01-28T18:21:28.697866Z"
    }
   },
   "cell_type": "code",
   "source": [
    "from functools import partial\n",
    "\n",
    "train_dataset = Dataset.from_pandas(pd.read_csv(train_dataset_path))\n",
    "\n",
    "def format_chat_template_batch(examples, tokenizer):  # Add tokenizer as parameter\n",
    "    formatted_texts = []\n",
    "\n",
    "    for system, user, assistant in zip(\n",
    "        examples[\"system\"],\n",
    "        examples[\"user\"],\n",
    "        examples[\"assistant\"]\n",
    "    ):\n",
    "        row_json = [\n",
    "            {\"role\": \"system\", \"content\": system},\n",
    "            {\"role\": \"user\", \"content\": user},\n",
    "            {\"role\": \"assistant\", \"content\": str(assistant)}\n",
    "        ]\n",
    "        formatted_texts.append(tokenizer.apply_chat_template(row_json, tokenize=False))\n",
    "\n",
    "    examples[\"text\"] = formatted_texts\n",
    "    return examples\n",
    "\n",
    "\n",
    "format_with_tokenizer = partial(format_chat_template_batch, tokenizer=tokenizer)\n",
    "\n",
    "train_dataset = train_dataset.map(\n",
    "    format_with_tokenizer,\n",
    "    batched=True,\n",
    "    batch_size=100\n",
    ")"
   ],
   "id": "bf843b706515345b",
   "outputs": [
    {
     "data": {
      "text/plain": [
       "Map:   0%|          | 0/14920 [00:00<?, ? examples/s]"
      ],
      "application/vnd.jupyter.widget-view+json": {
       "version_major": 2,
       "version_minor": 0,
       "model_id": "52a2e45209904dfca829da5745317498"
      }
     },
     "metadata": {},
     "output_type": "display_data"
    }
   ],
   "execution_count": 13
  },
  {
   "metadata": {
    "ExecuteTime": {
     "end_time": "2025-01-28T18:21:29.623192Z",
     "start_time": "2025-01-28T18:21:29.424682Z"
    }
   },
   "cell_type": "code",
   "source": [
    "test_dataset = Dataset.from_pandas(pd.read_csv(test_dataset_path))\n",
    "\n",
    "test_dataset = test_dataset.map(\n",
    "    format_with_tokenizer,\n",
    "    batched=True,\n",
    "    batch_size=100\n",
    ")"
   ],
   "id": "b010b71dc3d46ed9",
   "outputs": [
    {
     "data": {
      "text/plain": [
       "Map:   0%|          | 0/3730 [00:00<?, ? examples/s]"
      ],
      "application/vnd.jupyter.widget-view+json": {
       "version_major": 2,
       "version_minor": 0,
       "model_id": "aee893d09d35471185a634b7b762004a"
      }
     },
     "metadata": {},
     "output_type": "display_data"
    }
   ],
   "execution_count": 14
  },
  {
   "metadata": {
    "ExecuteTime": {
     "end_time": "2025-01-28T18:21:29.723434Z",
     "start_time": "2025-01-28T18:21:29.638473Z"
    }
   },
   "cell_type": "code",
   "source": [
    "peft_config = LoraConfig(\n",
    "    r=16,\n",
    "    lora_alpha=32,\n",
    "    target_modules=[\"q_proj\", \"v_proj\"],\n",
    "    bias=\"none\",\n",
    "    task_type=\"CAUSAL_LM\",\n",
    "    inference_mode=False\n",
    ")\n",
    "\n",
    "model = get_peft_model(model, peft_config)"
   ],
   "id": "8fd2c40131e850aa",
   "outputs": [],
   "execution_count": 15
  },
  {
   "metadata": {
    "ExecuteTime": {
     "end_time": "2025-01-28T18:21:29.786743Z",
     "start_time": "2025-01-28T18:21:29.740578Z"
    }
   },
   "cell_type": "code",
   "source": [
    "training_arguments = TrainingArguments(\n",
    "    output_dir=new_model_path,\n",
    "    per_device_train_batch_size=2,\n",
    "    per_device_eval_batch_size=2,\n",
    "    gradient_accumulation_steps=16,\n",
    "    optim=\"paged_adamw_32bit\",\n",
    "    num_train_epochs=10,\n",
    "    eval_strategy=\"steps\",\n",
    "    eval_steps=0.5,\n",
    "    warmup_steps=100,\n",
    "    learning_rate=5e-5,\n",
    "    fp16=False,\n",
    "    bf16=True,\n",
    "    group_by_length=True,\n",
    "    report_to=\"wandb\",\n",
    "    neftune_noise_alpha=0.1,\n",
    "    run_name=\"actual_run_1\",\n",
    "    logging_first_step=True,\n",
    "    logging_dir=\"../logs\",\n",
    "    logging_strategy=\"steps\",\n",
    "    logging_steps=1,\n",
    "    load_best_model_at_end=True,\n",
    "    metric_for_best_model=\"eval_loss\",\n",
    "    greater_is_better=False,\n",
    "    save_total_limit=3\n",
    ")"
   ],
   "id": "f0aee664e91757ee",
   "outputs": [],
   "execution_count": 16
  },
  {
   "metadata": {
    "ExecuteTime": {
     "end_time": "2025-01-28T18:21:41.072806Z",
     "start_time": "2025-01-28T18:21:29.802759Z"
    }
   },
   "cell_type": "code",
   "source": [
    "trainer = SFTTrainer(\n",
    "    model=model,\n",
    "    train_dataset=train_dataset,\n",
    "    eval_dataset=test_dataset,\n",
    "    peft_config=peft_config,\n",
    "    args=training_arguments\n",
    ")"
   ],
   "id": "3503b45bfcc974f",
   "outputs": [
    {
     "data": {
      "text/plain": [
       "Map:   0%|          | 0/14920 [00:00<?, ? examples/s]"
      ],
      "application/vnd.jupyter.widget-view+json": {
       "version_major": 2,
       "version_minor": 0,
       "model_id": "b5504d85283e4dc99cce14da2a9844e2"
      }
     },
     "metadata": {},
     "output_type": "display_data"
    },
    {
     "data": {
      "text/plain": [
       "Map:   0%|          | 0/3730 [00:00<?, ? examples/s]"
      ],
      "application/vnd.jupyter.widget-view+json": {
       "version_major": 2,
       "version_minor": 0,
       "model_id": "1e12a961c4b24ccfa71ed45bc59611ef"
      }
     },
     "metadata": {},
     "output_type": "display_data"
    }
   ],
   "execution_count": 17
  },
  {
   "metadata": {
    "jupyter": {
     "is_executing": true
    },
    "ExecuteTime": {
     "start_time": "2025-01-28T18:21:41.091110Z"
    }
   },
   "cell_type": "code",
   "source": "trainer.train()",
   "id": "430323e15ceda5c4",
   "outputs": [
    {
     "data": {
      "text/plain": [
       "<IPython.core.display.HTML object>"
      ],
      "text/html": [
       "\n",
       "    <div>\n",
       "      \n",
       "      <progress value='20' max='4660' style='width:300px; height:20px; vertical-align: middle;'></progress>\n",
       "      [  20/4660 01:01 < 4:25:21, 0.29 it/s, Epoch 0.04/10]\n",
       "    </div>\n",
       "    <table border=\"1\" class=\"dataframe\">\n",
       "  <thead>\n",
       " <tr style=\"text-align: left;\">\n",
       "      <th>Step</th>\n",
       "      <th>Training Loss</th>\n",
       "      <th>Validation Loss</th>\n",
       "    </tr>\n",
       "  </thead>\n",
       "  <tbody>\n",
       "  </tbody>\n",
       "</table><p>"
      ]
     },
     "metadata": {},
     "output_type": "display_data"
    }
   ],
   "execution_count": null
  }
 ],
 "metadata": {
  "kernelspec": {
   "display_name": "Python 3",
   "language": "python",
   "name": "python3"
  },
  "language_info": {
   "codemirror_mode": {
    "name": "ipython",
    "version": 2
   },
   "file_extension": ".py",
   "mimetype": "text/x-python",
   "name": "python",
   "nbconvert_exporter": "python",
   "pygments_lexer": "ipython2",
   "version": "2.7.6"
  }
 },
 "nbformat": 4,
 "nbformat_minor": 5
}
