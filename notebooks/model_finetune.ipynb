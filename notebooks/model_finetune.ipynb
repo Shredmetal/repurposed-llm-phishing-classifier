{
 "cells": [
  {
   "metadata": {
    "ExecuteTime": {
     "end_time": "2025-01-30T10:54:59.785440Z",
     "start_time": "2025-01-30T10:54:58.788277Z"
    }
   },
   "cell_type": "code",
   "source": [
    "import torch\n",
    "\n",
    "print(f\"CUDA available: {torch.cuda.is_available()}\")\n",
    "print(f\"CUDA version: {torch.version.cuda}\")\n",
    "if torch.cuda.is_available():\n",
    "    print(f\"GPU Device: {torch.cuda.get_device_name(0)}\")\n"
   ],
   "id": "6c66ffe4655abc5e",
   "outputs": [
    {
     "name": "stdout",
     "output_type": "stream",
     "text": [
      "CUDA available: True\n",
      "CUDA version: 12.1\n",
      "GPU Device: NVIDIA GeForce RTX 4090\n"
     ]
    }
   ],
   "execution_count": 1
  },
  {
   "metadata": {
    "ExecuteTime": {
     "end_time": "2025-01-30T10:54:59.796249Z",
     "start_time": "2025-01-30T10:54:59.790955Z"
    }
   },
   "cell_type": "code",
   "source": [
    "from dotenv import load_dotenv\n",
    "import os\n",
    "\n",
    "load_dotenv()\n",
    "\n",
    "huggingface_api_key = os.getenv(\"HUGGINGFACE_API_KEY\")\n",
    "wandb_api_key = os.getenv(\"WANDB_API_KEY\")\n",
    "\n",
    "if not huggingface_api_key:\n",
    "    raise ValueError(\"HUGGINGFACE_API_KEY not set\")\n",
    "\n",
    "if not wandb_api_key:\n",
    "    raise ValueError(\"WANDB_API_KEY not set\")"
   ],
   "id": "e533277720089dcf",
   "outputs": [],
   "execution_count": 2
  },
  {
   "metadata": {
    "ExecuteTime": {
     "end_time": "2025-01-30T10:55:01.812040Z",
     "start_time": "2025-01-30T10:54:59.862441Z"
    }
   },
   "cell_type": "code",
   "source": [
    "from transformers import (\n",
    "    AutoModelForCausalLM,\n",
    "    AutoTokenizer,\n",
    "    TrainingArguments\n",
    ")\n",
    "\n",
    "from peft import (\n",
    "    LoraConfig,\n",
    "    get_peft_model\n",
    ")\n",
    "\n",
    "import wandb\n",
    "import pandas as pd\n",
    "from datasets import Dataset\n",
    "from trl import SFTTrainer"
   ],
   "id": "9e21f997b648e218",
   "outputs": [],
   "execution_count": 3
  },
  {
   "metadata": {
    "ExecuteTime": {
     "end_time": "2025-01-30T10:55:02.104975Z",
     "start_time": "2025-01-30T10:55:01.815325Z"
    }
   },
   "cell_type": "code",
   "source": [
    "from huggingface_hub import login\n",
    "\n",
    "login(token=huggingface_api_key)"
   ],
   "id": "aaafa79785bc72a5",
   "outputs": [],
   "execution_count": 4
  },
  {
   "metadata": {
    "ExecuteTime": {
     "end_time": "2025-01-30T10:55:03.950882Z",
     "start_time": "2025-01-30T10:55:02.108431Z"
    }
   },
   "cell_type": "code",
   "source": [
    "wandb.login(key=wandb_api_key)\n",
    "\n",
    "run = wandb.init(\n",
    "    project=\"repurposed-llm-phishing-classifier-causal-v2\",\n",
    "    job_type=\"train\",\n",
    "    anonymous=\"allow\"\n",
    ")"
   ],
   "id": "1e197bf918aa209e",
   "outputs": [
    {
     "name": "stderr",
     "output_type": "stream",
     "text": [
      "wandb: Currently logged in as: morganj-lee01 (morganj-lee01-team). Use `wandb login --relogin` to force relogin\n",
      "wandb: WARNING If you're specifying your api key in code, ensure this code is not shared publicly.\n",
      "wandb: WARNING Consider setting the WANDB_API_KEY environment variable, or running `wandb login` from the command line.\n",
      "wandb: Appending key for api.wandb.ai to your netrc file: C:\\Users\\morga\\_netrc\n",
      "wandb: Using wandb-core as the SDK backend.  Please refer to https://wandb.me/wandb-core for more information.\n"
     ]
    },
    {
     "data": {
      "text/plain": [
       "<IPython.core.display.HTML object>"
      ],
      "text/html": [
       "Tracking run with wandb version 0.19.4"
      ]
     },
     "metadata": {},
     "output_type": "display_data"
    },
    {
     "data": {
      "text/plain": [
       "<IPython.core.display.HTML object>"
      ],
      "text/html": [
       "Run data is saved locally in <code>E:\\PyCharm\\PycharmProjects\\repurposed-llm-phishing-classifier\\notebooks\\wandb\\run-20250130_185503-2cs5rnv5</code>"
      ]
     },
     "metadata": {},
     "output_type": "display_data"
    },
    {
     "data": {
      "text/plain": [
       "<IPython.core.display.HTML object>"
      ],
      "text/html": [
       "Syncing run <strong><a href='https://wandb.ai/morganj-lee01-team/repurposed-llm-phishing-classifier-causal-v2/runs/2cs5rnv5?apiKey=2a1b3aadd29eb165c80f5d6458a4058c07a5a986' target=\"_blank\">mild-elevator-4</a></strong> to <a href='https://wandb.ai/morganj-lee01-team/repurposed-llm-phishing-classifier-causal-v2?apiKey=2a1b3aadd29eb165c80f5d6458a4058c07a5a986' target=\"_blank\">Weights & Biases</a> (<a href='https://wandb.me/developer-guide' target=\"_blank\">docs</a>)<br>"
      ]
     },
     "metadata": {},
     "output_type": "display_data"
    },
    {
     "data": {
      "text/plain": [
       "<IPython.core.display.HTML object>"
      ],
      "text/html": [
       " View project at <a href='https://wandb.ai/morganj-lee01-team/repurposed-llm-phishing-classifier-causal-v2?apiKey=2a1b3aadd29eb165c80f5d6458a4058c07a5a986' target=\"_blank\">https://wandb.ai/morganj-lee01-team/repurposed-llm-phishing-classifier-causal-v2?apiKey=2a1b3aadd29eb165c80f5d6458a4058c07a5a986</a>"
      ]
     },
     "metadata": {},
     "output_type": "display_data"
    },
    {
     "data": {
      "text/plain": [
       "<IPython.core.display.HTML object>"
      ],
      "text/html": [
       " View run at <a href='https://wandb.ai/morganj-lee01-team/repurposed-llm-phishing-classifier-causal-v2/runs/2cs5rnv5?apiKey=2a1b3aadd29eb165c80f5d6458a4058c07a5a986' target=\"_blank\">https://wandb.ai/morganj-lee01-team/repurposed-llm-phishing-classifier-causal-v2/runs/2cs5rnv5?apiKey=2a1b3aadd29eb165c80f5d6458a4058c07a5a986</a>"
      ]
     },
     "metadata": {},
     "output_type": "display_data"
    },
    {
     "data": {
      "text/plain": [
       "<IPython.core.display.HTML object>"
      ],
      "text/html": [
       "Do NOT share these links with anyone. They can be used to claim your runs."
      ]
     },
     "metadata": {},
     "output_type": "display_data"
    }
   ],
   "execution_count": 5
  },
  {
   "metadata": {
    "ExecuteTime": {
     "end_time": "2025-01-30T10:55:03.957931Z",
     "start_time": "2025-01-30T10:55:03.954778Z"
    }
   },
   "cell_type": "code",
   "source": [
    "base_model_path = \"../models/llama_models/llama-3.2-3B\"\n",
    "new_model_path = \"../models/tuned_models/llama-3.2-3B-phishing-classifier-causal-v2\"\n",
    "train_dataset_path = \"../processed_data/train.csv\"\n",
    "test_dataset_path = \"../processed_data/test.csv\""
   ],
   "id": "510dfcf5597f3943",
   "outputs": [],
   "execution_count": 6
  },
  {
   "metadata": {
    "ExecuteTime": {
     "end_time": "2025-01-30T10:55:04.234804Z",
     "start_time": "2025-01-30T10:55:03.961679Z"
    }
   },
   "cell_type": "code",
   "source": [
    "train_df = pd.read_csv(train_dataset_path)\n",
    "\n",
    "train_df.head()"
   ],
   "id": "a9e9e085312d0019",
   "outputs": [
    {
     "data": {
      "text/plain": [
       "                                              system  \\\n",
       "0  You are a classification system designed to ca...   \n",
       "1  You are a classification system designed to ca...   \n",
       "2  You are a classification system designed to ca...   \n",
       "3  You are a classification system designed to ca...   \n",
       "4  You are a classification system designed to ca...   \n",
       "\n",
       "                                                user  assistant  \n",
       "0  Message for review: write me back please year ...       True  \n",
       "1  Message for review: I just picked up Razor SDK...      False  \n",
       "2  Message for review: vacation goodmorning , i w...      False  \n",
       "3  Message for review: On Thu, Aug 08, 2002 at 11...      False  \n",
       "4  Message for review: wellheads shoreline has se...      False  "
      ],
      "text/html": [
       "<div>\n",
       "<style scoped>\n",
       "    .dataframe tbody tr th:only-of-type {\n",
       "        vertical-align: middle;\n",
       "    }\n",
       "\n",
       "    .dataframe tbody tr th {\n",
       "        vertical-align: top;\n",
       "    }\n",
       "\n",
       "    .dataframe thead th {\n",
       "        text-align: right;\n",
       "    }\n",
       "</style>\n",
       "<table border=\"1\" class=\"dataframe\">\n",
       "  <thead>\n",
       "    <tr style=\"text-align: right;\">\n",
       "      <th></th>\n",
       "      <th>system</th>\n",
       "      <th>user</th>\n",
       "      <th>assistant</th>\n",
       "    </tr>\n",
       "  </thead>\n",
       "  <tbody>\n",
       "    <tr>\n",
       "      <th>0</th>\n",
       "      <td>You are a classification system designed to ca...</td>\n",
       "      <td>Message for review: write me back please year ...</td>\n",
       "      <td>True</td>\n",
       "    </tr>\n",
       "    <tr>\n",
       "      <th>1</th>\n",
       "      <td>You are a classification system designed to ca...</td>\n",
       "      <td>Message for review: I just picked up Razor SDK...</td>\n",
       "      <td>False</td>\n",
       "    </tr>\n",
       "    <tr>\n",
       "      <th>2</th>\n",
       "      <td>You are a classification system designed to ca...</td>\n",
       "      <td>Message for review: vacation goodmorning , i w...</td>\n",
       "      <td>False</td>\n",
       "    </tr>\n",
       "    <tr>\n",
       "      <th>3</th>\n",
       "      <td>You are a classification system designed to ca...</td>\n",
       "      <td>Message for review: On Thu, Aug 08, 2002 at 11...</td>\n",
       "      <td>False</td>\n",
       "    </tr>\n",
       "    <tr>\n",
       "      <th>4</th>\n",
       "      <td>You are a classification system designed to ca...</td>\n",
       "      <td>Message for review: wellheads shoreline has se...</td>\n",
       "      <td>False</td>\n",
       "    </tr>\n",
       "  </tbody>\n",
       "</table>\n",
       "</div>"
      ]
     },
     "execution_count": 7,
     "metadata": {},
     "output_type": "execute_result"
    }
   ],
   "execution_count": 7
  },
  {
   "metadata": {
    "ExecuteTime": {
     "end_time": "2025-01-30T10:55:04.259396Z",
     "start_time": "2025-01-30T10:55:04.256448Z"
    }
   },
   "cell_type": "code",
   "source": [
    "model_config = {\n",
    "    \"torch_dtype\": torch.bfloat16,\n",
    "    \"attn_implementation\": \"flash_attention_2\",\n",
    "    \"device_map\": \"auto\"\n",
    "}"
   ],
   "id": "51d47220f5319bbf",
   "outputs": [],
   "execution_count": 8
  },
  {
   "metadata": {
    "ExecuteTime": {
     "end_time": "2025-01-30T10:55:07.104833Z",
     "start_time": "2025-01-30T10:55:04.279934Z"
    }
   },
   "cell_type": "code",
   "source": [
    "# WARNING: flash_attention_2 required pip install flash-attn which needs C++ builds tools\n",
    "# It also takes absolutely forever to compile because it's compiling CUDA kernels\n",
    "\n",
    "model = AutoModelForCausalLM.from_pretrained(\n",
    "    base_model_path,\n",
    "    device_map=model_config[\"device_map\"],\n",
    "    torch_dtype=model_config[\"torch_dtype\"],\n",
    "    attn_implementation=model_config[\"attn_implementation\"]\n",
    ")"
   ],
   "id": "ce3db8ac1a8d05c8",
   "outputs": [
    {
     "data": {
      "text/plain": [
       "Loading checkpoint shards:   0%|          | 0/2 [00:00<?, ?it/s]"
      ],
      "application/vnd.jupyter.widget-view+json": {
       "version_major": 2,
       "version_minor": 0,
       "model_id": "528e16d0914e47f28d4d48ed3b86d4fd"
      }
     },
     "metadata": {},
     "output_type": "display_data"
    }
   ],
   "execution_count": 9
  },
  {
   "metadata": {
    "ExecuteTime": {
     "end_time": "2025-01-30T10:55:07.325160Z",
     "start_time": "2025-01-30T10:55:07.106365Z"
    }
   },
   "cell_type": "code",
   "source": "tokenizer = AutoTokenizer.from_pretrained(base_model_path, trust_remote_code=True)",
   "id": "8020da79ce3618a2",
   "outputs": [],
   "execution_count": 10
  },
  {
   "metadata": {
    "ExecuteTime": {
     "end_time": "2025-01-30T10:55:07.343925Z",
     "start_time": "2025-01-30T10:55:07.339862Z"
    }
   },
   "cell_type": "code",
   "source": [
    "print(\"Tokenizer config:\")\n",
    "print(tokenizer.init_kwargs)\n"
   ],
   "id": "35824a590c12c6e6",
   "outputs": [
    {
     "name": "stdout",
     "output_type": "stream",
     "text": [
      "Tokenizer config:\n",
      "{'bos_token': AddedToken(\"<|begin_of_text|>\", rstrip=False, lstrip=False, single_word=False, normalized=False, special=True), 'clean_up_tokenization_spaces': True, 'eos_token': AddedToken(\"<|end_of_text|>\", rstrip=False, lstrip=False, single_word=False, normalized=False, special=True), 'model_input_names': ['input_ids', 'attention_mask'], 'model_max_length': 131072, 'vocab_file': None, 'name_or_path': '../models/llama_models/llama-3.2-3B'}\n"
     ]
    }
   ],
   "execution_count": 11
  },
  {
   "metadata": {
    "ExecuteTime": {
     "end_time": "2025-01-30T10:55:07.361514Z",
     "start_time": "2025-01-30T10:55:07.359132Z"
    }
   },
   "cell_type": "code",
   "source": [
    "tokenizer.chat_template = None\n",
    "\n",
    "tokenizer.chat_template = \"\"\"{% for message in messages %}<|start_header_id|>{{ message['role'] }}<|end_header_id|>{{ message['content'] }}<|eot_id|>{% endfor %}\"\"\"\n"
   ],
   "id": "956fdf1a8d3428b5",
   "outputs": [],
   "execution_count": 12
  },
  {
   "metadata": {
    "ExecuteTime": {
     "end_time": "2025-01-30T10:55:07.382576Z",
     "start_time": "2025-01-30T10:55:07.375379Z"
    }
   },
   "cell_type": "code",
   "source": [
    "test_messages = [\n",
    "    {\"role\": \"system\", \"content\": \"You are a classification system...\"},\n",
    "    {\"role\": \"user\", \"content\": \"Message for review: test\"},\n",
    "    {\"role\": \"assistant\", \"content\": \"true\"}\n",
    "]\n",
    "\n",
    "output = tokenizer.apply_chat_template(test_messages, tokenize=False)\n",
    "print(\"Length:\", len(output))\n",
    "print(\"Content:\", output)"
   ],
   "id": "d6a8d65164d0a1a3",
   "outputs": [
    {
     "name": "stdout",
     "output_type": "stream",
     "text": [
      "Length: 219\n",
      "Content: <|start_header_id|>system<|end_header_id|>You are a classification system...<|eot_id|><|start_header_id|>user<|end_header_id|>Message for review: test<|eot_id|><|start_header_id|>assistant<|end_header_id|>true<|eot_id|>\n"
     ]
    }
   ],
   "execution_count": 13
  },
  {
   "metadata": {
    "ExecuteTime": {
     "end_time": "2025-01-30T10:55:07.410101Z",
     "start_time": "2025-01-30T10:55:07.396943Z"
    }
   },
   "cell_type": "code",
   "source": [
    "special_tokens = {\n",
    "    \"additional_special_tokens\": [\n",
    "        \"<|start_header_id|>\",\n",
    "        \"<|end_header_id|>\",\n",
    "        \"<|eot_id|>\"\n",
    "    ]\n",
    "}\n",
    "tokenizer.add_special_tokens(special_tokens)\n",
    "model.resize_token_embeddings(len(tokenizer))"
   ],
   "id": "284b03a0742cbd3c",
   "outputs": [
    {
     "data": {
      "text/plain": [
       "Embedding(128256, 3072)"
      ]
     },
     "execution_count": 14,
     "metadata": {},
     "output_type": "execute_result"
    }
   ],
   "execution_count": 14
  },
  {
   "metadata": {
    "ExecuteTime": {
     "end_time": "2025-01-30T10:55:08.148854Z",
     "start_time": "2025-01-30T10:55:07.424903Z"
    }
   },
   "cell_type": "code",
   "source": [
    "from functools import partial\n",
    "\n",
    "train_dataset = Dataset.from_pandas(pd.read_csv(train_dataset_path))\n",
    "\n",
    "def format_chat_template_batch(examples, tokenizer):  # Add tokenizer as parameter\n",
    "    formatted_texts = []\n",
    "\n",
    "    for system, user, assistant in zip(\n",
    "        examples[\"system\"],\n",
    "        examples[\"user\"],\n",
    "        examples[\"assistant\"]\n",
    "    ):\n",
    "        row_json = [\n",
    "            {\"role\": \"system\", \"content\": system},\n",
    "            {\"role\": \"user\", \"content\": user},\n",
    "            {\"role\": \"assistant\", \"content\": str(assistant)}\n",
    "        ]\n",
    "        formatted_texts.append(\n",
    "            tokenizer.apply_chat_template(row_json,\n",
    "                                          tokenize=False))\n",
    "\n",
    "    examples[\"text\"] = formatted_texts\n",
    "    return examples\n",
    "\n",
    "\n",
    "format_with_tokenizer = partial(format_chat_template_batch, tokenizer=tokenizer)\n",
    "\n",
    "train_dataset = train_dataset.map(\n",
    "    format_with_tokenizer,\n",
    "    batched=True,\n",
    "    batch_size=100\n",
    ")"
   ],
   "id": "bf843b706515345b",
   "outputs": [
    {
     "data": {
      "text/plain": [
       "Map:   0%|          | 0/14920 [00:00<?, ? examples/s]"
      ],
      "application/vnd.jupyter.widget-view+json": {
       "version_major": 2,
       "version_minor": 0,
       "model_id": "2813f750c2f246e0b800d3ffd39ed4d6"
      }
     },
     "metadata": {},
     "output_type": "display_data"
    }
   ],
   "execution_count": 15
  },
  {
   "metadata": {
    "ExecuteTime": {
     "end_time": "2025-01-30T10:55:08.192713Z",
     "start_time": "2025-01-30T10:55:08.163739Z"
    }
   },
   "cell_type": "code",
   "source": [
    "tokens = tokenizer(train_dataset[\"text\"][5])\n",
    "print(tokens)\n"
   ],
   "id": "6273a19ad37c1b9f",
   "outputs": [
    {
     "name": "stdout",
     "output_type": "stream",
     "text": [
      "{'input_ids': [128000, 128006, 9125, 128007, 2675, 527, 264, 24790, 1887, 6319, 311, 2339, 99197, 6743, 311, 6144, 1274, 505, 16515, 12855, 323, 32638, 13, 1472, 690, 5371, 264, 1984, 369, 3477, 323, 422, 433, 374, 264, 99197, 2613, 11, 499, 28832, 6013, 449, 1193, 364, 1904, 6, 422, 433, 374, 99197, 11, 477, 364, 3934, 6, 422, 433, 374, 539, 99197, 13, 25274, 264, 16930, 477, 22109, 311, 26069, 449, 279, 2612, 3645, 649, 1121, 304, 6129, 11682, 311, 20134, 1274, 13, 128009, 128006, 882, 128007, 2097, 369, 3477, 25, 1952, 13479, 11, 220, 1187, 5033, 220, 1049, 17, 11, 15387, 445, 13, 2893, 7881, 6267, 25, 313, 60, 3112, 3686, 93350, 912, 606, 374, 704, 1070, 6968, 721, 898, 8106, 62, 2262, 13, 2209, 1070, 198, 313, 60, 17206, 832, 1732, 704, 1070, 649, 649, 1524, 3240, 311, 3137, 2085, 1694, 264, 198, 313, 60, 15079, 67586, 1269, 30, 1628, 912, 279, 330, 2569, 2592, 1, 1274, 16869, 3137, 3060, 11, 279, 198, 313, 60, 37934, 264, 396, 1524, 3345, 13, 358, 1440, 358, 16869, 3137, 627, 2460, 856, 4731, 374, 304, 279, 3142, 21749, 627, 3947, 527, 3885, 627, 1277, 1129, 87, 306, 916, 61919, 1543, 21609, 2801, 6801, 672, 128009, 128006, 78191, 128007, 4139, 128009], 'attention_mask': [1, 1, 1, 1, 1, 1, 1, 1, 1, 1, 1, 1, 1, 1, 1, 1, 1, 1, 1, 1, 1, 1, 1, 1, 1, 1, 1, 1, 1, 1, 1, 1, 1, 1, 1, 1, 1, 1, 1, 1, 1, 1, 1, 1, 1, 1, 1, 1, 1, 1, 1, 1, 1, 1, 1, 1, 1, 1, 1, 1, 1, 1, 1, 1, 1, 1, 1, 1, 1, 1, 1, 1, 1, 1, 1, 1, 1, 1, 1, 1, 1, 1, 1, 1, 1, 1, 1, 1, 1, 1, 1, 1, 1, 1, 1, 1, 1, 1, 1, 1, 1, 1, 1, 1, 1, 1, 1, 1, 1, 1, 1, 1, 1, 1, 1, 1, 1, 1, 1, 1, 1, 1, 1, 1, 1, 1, 1, 1, 1, 1, 1, 1, 1, 1, 1, 1, 1, 1, 1, 1, 1, 1, 1, 1, 1, 1, 1, 1, 1, 1, 1, 1, 1, 1, 1, 1, 1, 1, 1, 1, 1, 1, 1, 1, 1, 1, 1, 1, 1, 1, 1, 1, 1, 1, 1, 1, 1, 1, 1, 1, 1, 1, 1, 1, 1, 1, 1, 1, 1, 1, 1, 1, 1, 1, 1, 1, 1, 1, 1, 1, 1, 1, 1, 1, 1, 1, 1]}\n"
     ]
    }
   ],
   "execution_count": 16
  },
  {
   "metadata": {
    "ExecuteTime": {
     "end_time": "2025-01-30T10:55:08.333325Z",
     "start_time": "2025-01-30T10:55:08.207150Z"
    }
   },
   "cell_type": "code",
   "source": [
    "print(\"\\nAll Special Tokens:\")\n",
    "for token in tokenizer.all_special_tokens:\n",
    "    print(f\"{token}: {tokenizer.convert_tokens_to_ids(token)}\")\n",
    "\n",
    "print(\"\\nDecoded tokens:\")\n",
    "for token_id in tokens['input_ids']:\n",
    "    print(f\"{token_id}: {tokenizer.decode([token_id])}\")\n"
   ],
   "id": "ad7230a882b27768",
   "outputs": [
    {
     "name": "stdout",
     "output_type": "stream",
     "text": [
      "\n",
      "All Special Tokens:\n",
      "<|begin_of_text|>: 128000\n",
      "<|end_of_text|>: 128001\n",
      "<|start_header_id|>: 128006\n",
      "<|end_header_id|>: 128007\n",
      "<|eot_id|>: 128009\n",
      "\n",
      "Decoded tokens:\n",
      "128000: <|begin_of_text|>\n",
      "128006: <|start_header_id|>\n",
      "9125: system\n",
      "128007: <|end_header_id|>\n",
      "2675: You\n",
      "527:  are\n",
      "264:  a\n",
      "24790:  classification\n",
      "1887:  system\n",
      "6319:  designed\n",
      "311:  to\n",
      "2339:  catch\n",
      "99197:  phishing\n",
      "6743:  messages\n",
      "311:  to\n",
      "6144:  protect\n",
      "1274:  people\n",
      "505:  from\n",
      "16515:  fraud\n",
      "12855: sters\n",
      "323:  and\n",
      "32638:  criminals\n",
      "13: .\n",
      "1472:  You\n",
      "690:  will\n",
      "5371:  receive\n",
      "264:  a\n",
      "1984:  message\n",
      "369:  for\n",
      "3477:  review\n",
      "323:  and\n",
      "422:  if\n",
      "433:  it\n",
      "374:  is\n",
      "264:  a\n",
      "99197:  phishing\n",
      "2613:  email\n",
      "11: ,\n",
      "499:  you\n",
      "28832:  MUST\n",
      "6013:  respond\n",
      "449:  with\n",
      "1193:  only\n",
      "364:  '\n",
      "1904: true\n",
      "6: '\n",
      "422:  if\n",
      "433:  it\n",
      "374:  is\n",
      "99197:  phishing\n",
      "11: ,\n",
      "477:  or\n",
      "364:  '\n",
      "3934: false\n",
      "6: '\n",
      "422:  if\n",
      "433:  it\n",
      "374:  is\n",
      "539:  not\n",
      "99197:  phishing\n",
      "13: .\n",
      "25274:  Making\n",
      "264:  a\n",
      "16930:  mistake\n",
      "477:  or\n",
      "22109:  failing\n",
      "311:  to\n",
      "26069:  comply\n",
      "449:  with\n",
      "279:  the\n",
      "2612:  output\n",
      "3645:  format\n",
      "649:  can\n",
      "1121:  result\n",
      "304:  in\n",
      "6129:  serious\n",
      "11682:  harm\n",
      "311:  to\n",
      "20134:  vulnerable\n",
      "1274:  people\n",
      "13: .\n",
      "128009: <|eot_id|>\n",
      "128006: <|start_header_id|>\n",
      "882: user\n",
      "128007: <|end_header_id|>\n",
      "2097: Message\n",
      "369:  for\n",
      "3477:  review\n",
      "25: :\n",
      "1952:  On\n",
      "13479:  Sat\n",
      "11: ,\n",
      "220:  \n",
      "1187: 24\n",
      "5033:  Aug\n",
      "220:  \n",
      "1049: 200\n",
      "17: 2\n",
      "11: ,\n",
      "15387:  Adam\n",
      "445:  L\n",
      "13: .\n",
      "2893:  Be\n",
      "7881: berg\n",
      "6267:  wrote\n",
      "25: :\n",
      "313: --\n",
      "60: ]\n",
      "3112: And\n",
      "3686:  yet\n",
      "93350:  STILL\n",
      "912:  no\n",
      "606: one\n",
      "374:  is\n",
      "704:  out\n",
      "1070:  there\n",
      "6968:  creating\n",
      "721:  _\n",
      "898: public\n",
      "8106:  domain\n",
      "62: _\n",
      "2262:  content\n",
      "13: .\n",
      "2209:  Is\n",
      "1070:  there\n",
      "198: \n",
      "\n",
      "313: --\n",
      "60: ]\n",
      "17206: even\n",
      "832:  one\n",
      "1732:  person\n",
      "704:  out\n",
      "1070:  there\n",
      "649:  can\n",
      "649:  can\n",
      "1524:  even\n",
      "3240:  begin\n",
      "311:  to\n",
      "3137:  talk\n",
      "2085:  without\n",
      "1694:  being\n",
      "264:  a\n",
      "198: \n",
      "\n",
      "313: --\n",
      "60: ]\n",
      "15079: complete\n",
      "67586:  hypoc\n",
      "1269: rite\n",
      "30: ?\n",
      "1628:  And\n",
      "912:  no\n",
      "279:  the\n",
      "330:  \"\n",
      "2569: open\n",
      "2592:  source\n",
      "1: \"\n",
      "1274:  people\n",
      "16869:  cant\n",
      "3137:  talk\n",
      "3060:  either\n",
      "11: ,\n",
      "279:  the\n",
      "198: \n",
      "\n",
      "313: --\n",
      "60: ]\n",
      "37934: GPL\n",
      "264:  a\n",
      "396: int\n",
      "1524:  even\n",
      "3345:  close\n",
      "13: .\n",
      "358:  I\n",
      "1440:  know\n",
      "358:  I\n",
      "16869:  cant\n",
      "3137:  talk\n",
      "627: .\n",
      "\n",
      "2460: All\n",
      "856:  my\n",
      "4731:  music\n",
      "374:  is\n",
      "304:  in\n",
      "279:  the\n",
      "3142:  Public\n",
      "21749:  Domain\n",
      "627: .\n",
      "\n",
      "3947: There\n",
      "527:  are\n",
      "3885:  others\n",
      "627: .\n",
      "\n",
      "1277: http\n",
      "1129: ://\n",
      "87: x\n",
      "306: ent\n",
      "916: .com\n",
      "61919: /mail\n",
      "1543: man\n",
      "21609: /list\n",
      "2801: info\n",
      "6801: /f\n",
      "672: ork\n",
      "128009: <|eot_id|>\n",
      "128006: <|start_header_id|>\n",
      "78191: assistant\n",
      "128007: <|end_header_id|>\n",
      "4139: False\n",
      "128009: <|eot_id|>\n"
     ]
    }
   ],
   "execution_count": 17
  },
  {
   "metadata": {
    "ExecuteTime": {
     "end_time": "2025-01-30T10:55:08.551315Z",
     "start_time": "2025-01-30T10:55:08.348637Z"
    }
   },
   "cell_type": "code",
   "source": [
    "test_dataset = Dataset.from_pandas(pd.read_csv(test_dataset_path))\n",
    "\n",
    "test_dataset = test_dataset.map(\n",
    "    format_with_tokenizer,\n",
    "    batched=True,\n",
    "    batch_size=100\n",
    ")"
   ],
   "id": "b010b71dc3d46ed9",
   "outputs": [
    {
     "data": {
      "text/plain": [
       "Map:   0%|          | 0/3730 [00:00<?, ? examples/s]"
      ],
      "application/vnd.jupyter.widget-view+json": {
       "version_major": 2,
       "version_minor": 0,
       "model_id": "944dc52120384dafaf6c50fb9b2c78f5"
      }
     },
     "metadata": {},
     "output_type": "display_data"
    }
   ],
   "execution_count": 18
  },
  {
   "metadata": {
    "ExecuteTime": {
     "end_time": "2025-01-30T10:55:08.779614Z",
     "start_time": "2025-01-30T10:55:08.568553Z"
    }
   },
   "cell_type": "code",
   "source": [
    "peft_config = LoraConfig(\n",
    "    r=16,\n",
    "    lora_alpha=32,\n",
    "    target_modules=[\n",
    "        \"q_proj\", \"k_proj\", \"v_proj\", \"o_proj\",\n",
    "        \"down_proj\", \"up_proj\"\n",
    "    ],\n",
    "    bias=\"none\",\n",
    "    task_type=\"CAUSAL_LM\",\n",
    "    inference_mode=False\n",
    ")\n",
    "\n",
    "model = get_peft_model(model, peft_config)"
   ],
   "id": "8fd2c40131e850aa",
   "outputs": [],
   "execution_count": 19
  },
  {
   "metadata": {
    "ExecuteTime": {
     "end_time": "2025-01-30T10:55:08.836651Z",
     "start_time": "2025-01-30T10:55:08.799711Z"
    }
   },
   "cell_type": "code",
   "source": [
    "training_arguments = TrainingArguments(\n",
    "    output_dir=new_model_path,\n",
    "    per_device_train_batch_size=2,\n",
    "    per_device_eval_batch_size=2,\n",
    "    gradient_accumulation_steps=16,\n",
    "    optim=\"adamw_torch_fused\",\n",
    "    num_train_epochs=5,\n",
    "    save_strategy=\"epoch\",\n",
    "    eval_strategy=\"epoch\",\n",
    "    do_eval=True,\n",
    "    warmup_steps=100,\n",
    "    learning_rate=2e-4,\n",
    "    fp16=False,\n",
    "    bf16=True,\n",
    "    group_by_length=True,\n",
    "    report_to=\"wandb\",\n",
    "    run_name=\"actual_run_2\",\n",
    "    logging_first_step=True,\n",
    "    logging_dir=\"../logs\",\n",
    "    logging_strategy=\"steps\",\n",
    "    logging_steps=1,\n",
    "    load_best_model_at_end=True,\n",
    "    metric_for_best_model=\"eval_loss\",\n",
    "    greater_is_better=False,\n",
    "    save_total_limit=10\n",
    ")"
   ],
   "id": "f0aee664e91757ee",
   "outputs": [],
   "execution_count": 20
  },
  {
   "metadata": {
    "ExecuteTime": {
     "end_time": "2025-01-30T10:55:20.696670Z",
     "start_time": "2025-01-30T10:55:08.859201Z"
    }
   },
   "cell_type": "code",
   "source": [
    "trainer = SFTTrainer(\n",
    "    model=model,\n",
    "    train_dataset=train_dataset,\n",
    "    eval_dataset=test_dataset,\n",
    "    peft_config=peft_config,\n",
    "    args=training_arguments\n",
    ")"
   ],
   "id": "3503b45bfcc974f",
   "outputs": [
    {
     "data": {
      "text/plain": [
       "Map:   0%|          | 0/14920 [00:00<?, ? examples/s]"
      ],
      "application/vnd.jupyter.widget-view+json": {
       "version_major": 2,
       "version_minor": 0,
       "model_id": "55afac5a93254475a67f7023174b87bf"
      }
     },
     "metadata": {},
     "output_type": "display_data"
    },
    {
     "data": {
      "text/plain": [
       "Map:   0%|          | 0/3730 [00:00<?, ? examples/s]"
      ],
      "application/vnd.jupyter.widget-view+json": {
       "version_major": 2,
       "version_minor": 0,
       "model_id": "87d34774131c4f52a61edf75000f3af4"
      }
     },
     "metadata": {},
     "output_type": "display_data"
    }
   ],
   "execution_count": 21
  },
  {
   "metadata": {
    "ExecuteTime": {
     "end_time": "2025-01-30T12:51:44.703183Z",
     "start_time": "2025-01-30T10:55:20.716164Z"
    }
   },
   "cell_type": "code",
   "source": "trainer.train()",
   "id": "430323e15ceda5c4",
   "outputs": [
    {
     "data": {
      "text/plain": [
       "<IPython.core.display.HTML object>"
      ],
      "text/html": [
       "\n",
       "    <div>\n",
       "      \n",
       "      <progress value='2330' max='2330' style='width:300px; height:20px; vertical-align: middle;'></progress>\n",
       "      [2330/2330 1:56:15, Epoch 4/5]\n",
       "    </div>\n",
       "    <table border=\"1\" class=\"dataframe\">\n",
       "  <thead>\n",
       " <tr style=\"text-align: left;\">\n",
       "      <th>Epoch</th>\n",
       "      <th>Training Loss</th>\n",
       "      <th>Validation Loss</th>\n",
       "    </tr>\n",
       "  </thead>\n",
       "  <tbody>\n",
       "    <tr>\n",
       "      <td>1</td>\n",
       "      <td>0.621100</td>\n",
       "      <td>1.780210</td>\n",
       "    </tr>\n",
       "    <tr>\n",
       "      <td>2</td>\n",
       "      <td>0.595400</td>\n",
       "      <td>1.689070</td>\n",
       "    </tr>\n",
       "    <tr>\n",
       "      <td>3</td>\n",
       "      <td>0.592700</td>\n",
       "      <td>1.649940</td>\n",
       "    </tr>\n",
       "    <tr>\n",
       "      <td>4</td>\n",
       "      <td>1.083000</td>\n",
       "      <td>1.641320</td>\n",
       "    </tr>\n",
       "  </tbody>\n",
       "</table><p>"
      ]
     },
     "metadata": {},
     "output_type": "display_data"
    },
    {
     "name": "stderr",
     "output_type": "stream",
     "text": [
      "Trainer.tokenizer is now deprecated. You should use Trainer.processing_class instead.\n",
      "Trainer.tokenizer is now deprecated. You should use Trainer.processing_class instead.\n",
      "Trainer.tokenizer is now deprecated. You should use Trainer.processing_class instead.\n",
      "Trainer.tokenizer is now deprecated. You should use Trainer.processing_class instead.\n",
      "Trainer.tokenizer is now deprecated. You should use Trainer.processing_class instead.\n",
      "Trainer.tokenizer is now deprecated. You should use Trainer.processing_class instead.\n",
      "Trainer.tokenizer is now deprecated. You should use Trainer.processing_class instead.\n",
      "Trainer.tokenizer is now deprecated. You should use Trainer.processing_class instead.\n",
      "Trainer.tokenizer is now deprecated. You should use Trainer.processing_class instead.\n",
      "Trainer.tokenizer is now deprecated. You should use Trainer.processing_class instead.\n"
     ]
    },
    {
     "data": {
      "text/plain": [
       "TrainOutput(global_step=2330, training_loss=1.5966714901218086, metrics={'train_runtime': 6981.4819, 'train_samples_per_second': 10.685, 'train_steps_per_second': 0.334, 'total_flos': 5.3268820243716096e+17, 'train_loss': 1.5966714901218086, 'epoch': 4.990884718498659})"
      ]
     },
     "execution_count": 22,
     "metadata": {},
     "output_type": "execute_result"
    }
   ],
   "execution_count": 22
  },
  {
   "metadata": {
    "ExecuteTime": {
     "end_time": "2025-01-30T12:51:47.904487Z",
     "start_time": "2025-01-30T12:51:44.740673Z"
    }
   },
   "cell_type": "code",
   "source": "wandb.finish()",
   "id": "949a8843950da24",
   "outputs": [
    {
     "data": {
      "text/plain": [
       "<IPython.core.display.HTML object>"
      ],
      "text/html": []
     },
     "metadata": {},
     "output_type": "display_data"
    },
    {
     "data": {
      "text/plain": [
       "<IPython.core.display.HTML object>"
      ],
      "text/html": [
       "<br>    <style><br>        .wandb-row {<br>            display: flex;<br>            flex-direction: row;<br>            flex-wrap: wrap;<br>            justify-content: flex-start;<br>            width: 100%;<br>        }<br>        .wandb-col {<br>            display: flex;<br>            flex-direction: column;<br>            flex-basis: 100%;<br>            flex: 1;<br>            padding: 10px;<br>        }<br>    </style><br><div class=\"wandb-row\"><div class=\"wandb-col\"><h3>Run history:</h3><br/><table class=\"wandb\"><tr><td>eval/loss</td><td>█▄▂▁▁</td></tr><tr><td>eval/runtime</td><td>██▂▁▁</td></tr><tr><td>eval/samples_per_second</td><td>▁▁▇██</td></tr><tr><td>eval/steps_per_second</td><td>▁▁▇██</td></tr><tr><td>train/epoch</td><td>▁▁▁▂▂▂▃▃▃▃▄▄▄▄▄▄▄▄▅▅▅▅▆▆▆▆▆▆▆▆▆▇▇▇▇▇▇▇██</td></tr><tr><td>train/global_step</td><td>▁▁▁▂▂▂▂▂▂▂▂▃▃▃▃▃▃▃▄▄▄▄▄▄▄▅▅▅▅▅▇▇▇▇▇▇▇███</td></tr><tr><td>train/grad_norm</td><td>▄▃▃▂▃▄▄▃▂▄▅▂▂▃▅▄▅▃▅▂▅▁▄▆▄▅▅▅▃▇▄▇▆▆▁█▅█▃▆</td></tr><tr><td>train/learning_rate</td><td>▁█████▇▇▇▇▆▆▆▆▆▆▅▅▅▅▅▄▄▄▄▄▄▄▄▄▄▃▃▃▃▃▂▁▁▁</td></tr><tr><td>train/loss</td><td>▇███▇▇▇▇█▆▇▆▇▇▅▇▆▅▇▅▁▅▅▆▄▆▅▆▇▆▇▆▅▄▆▄▃▄▂▅</td></tr></table><br/></div><div class=\"wandb-col\"><h3>Run summary:</h3><br/><table class=\"wandb\"><tr><td>eval/loss</td><td>1.64132</td></tr><tr><td>eval/runtime</td><td>141.9506</td></tr><tr><td>eval/samples_per_second</td><td>26.277</td></tr><tr><td>eval/steps_per_second</td><td>13.138</td></tr><tr><td>total_flos</td><td>5.3268820243716096e+17</td></tr><tr><td>train/epoch</td><td>4.99088</td></tr><tr><td>train/global_step</td><td>2330</td></tr><tr><td>train/grad_norm</td><td>0.71274</td></tr><tr><td>train/learning_rate</td><td>0</td></tr><tr><td>train/loss</td><td>1.083</td></tr><tr><td>train_loss</td><td>1.59667</td></tr><tr><td>train_runtime</td><td>6981.4819</td></tr><tr><td>train_samples_per_second</td><td>10.685</td></tr><tr><td>train_steps_per_second</td><td>0.334</td></tr></table><br/></div></div>"
      ]
     },
     "metadata": {},
     "output_type": "display_data"
    },
    {
     "data": {
      "text/plain": [
       "<IPython.core.display.HTML object>"
      ],
      "text/html": [
       " View run <strong style=\"color:#cdcd00\">mild-elevator-4</strong> at: <a href='https://wandb.ai/morganj-lee01-team/repurposed-llm-phishing-classifier-causal-v2/runs/2cs5rnv5?apiKey=2a1b3aadd29eb165c80f5d6458a4058c07a5a986' target=\"_blank\">https://wandb.ai/morganj-lee01-team/repurposed-llm-phishing-classifier-causal-v2/runs/2cs5rnv5?apiKey=2a1b3aadd29eb165c80f5d6458a4058c07a5a986</a><br> View project at: <a href='https://wandb.ai/morganj-lee01-team/repurposed-llm-phishing-classifier-causal-v2?apiKey=2a1b3aadd29eb165c80f5d6458a4058c07a5a986' target=\"_blank\">https://wandb.ai/morganj-lee01-team/repurposed-llm-phishing-classifier-causal-v2?apiKey=2a1b3aadd29eb165c80f5d6458a4058c07a5a986</a><br>Synced 5 W&B file(s), 0 media file(s), 0 artifact file(s) and 0 other file(s)"
      ]
     },
     "metadata": {},
     "output_type": "display_data"
    },
    {
     "data": {
      "text/plain": [
       "<IPython.core.display.HTML object>"
      ],
      "text/html": [
       "Find logs at: <code>.\\wandb\\run-20250130_185503-2cs5rnv5\\logs</code>"
      ]
     },
     "metadata": {},
     "output_type": "display_data"
    }
   ],
   "execution_count": 23
  },
  {
   "metadata": {
    "ExecuteTime": {
     "end_time": "2025-01-30T12:51:47.967197Z",
     "start_time": "2025-01-30T12:51:47.908496Z"
    }
   },
   "cell_type": "code",
   "source": "trainer.model.save_pretrained(new_model_path)",
   "id": "9835c261752a8eb2",
   "outputs": [],
   "execution_count": 24
  }
 ],
 "metadata": {
  "kernelspec": {
   "display_name": "Python 3",
   "language": "python",
   "name": "python3"
  },
  "language_info": {
   "codemirror_mode": {
    "name": "ipython",
    "version": 2
   },
   "file_extension": ".py",
   "mimetype": "text/x-python",
   "name": "python",
   "nbconvert_exporter": "python",
   "pygments_lexer": "ipython2",
   "version": "2.7.6"
  }
 },
 "nbformat": 4,
 "nbformat_minor": 5
}
