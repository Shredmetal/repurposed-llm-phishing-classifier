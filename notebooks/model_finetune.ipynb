{
 "cells": [
  {
   "metadata": {},
   "cell_type": "code",
   "source": [
    "import torch\n",
    "\n",
    "print(f\"CUDA available: {torch.cuda.is_available()}\")\n",
    "print(f\"CUDA version: {torch.version.cuda}\")\n",
    "if torch.cuda.is_available():\n",
    "    print(f\"GPU Device: {torch.cuda.get_device_name(0)}\")\n"
   ],
   "id": "6c66ffe4655abc5e",
   "outputs": [],
   "execution_count": null
  },
  {
   "metadata": {},
   "cell_type": "code",
   "source": [
    "from dotenv import load_dotenv\n",
    "import os\n",
    "\n",
    "load_dotenv()\n",
    "\n",
    "huggingface_api_key = os.getenv(\"HUGGINGFACE_API_KEY\")\n",
    "wandb_api_key = os.getenv(\"WANDB_API_KEY\")\n",
    "\n",
    "if not huggingface_api_key:\n",
    "    raise ValueError(\"HUGGINGFACE_API_KEY not set\")\n",
    "\n",
    "if not wandb_api_key:\n",
    "    raise ValueError(\"WANDB_API_KEY not set\")"
   ],
   "id": "e533277720089dcf",
   "outputs": [],
   "execution_count": null
  },
  {
   "metadata": {},
   "cell_type": "code",
   "source": [
    "from transformers import (\n",
    "    AutoModelForCausalLM,\n",
    "    AutoTokenizer,\n",
    "    TrainingArguments\n",
    ")\n",
    "\n",
    "from peft import (\n",
    "    LoraConfig,\n",
    "    get_peft_model\n",
    ")\n",
    "\n",
    "import wandb\n",
    "import pandas as pd\n",
    "from datasets import Dataset\n",
    "from trl import SFTTrainer"
   ],
   "id": "9e21f997b648e218",
   "outputs": [],
   "execution_count": null
  },
  {
   "metadata": {},
   "cell_type": "code",
   "source": [
    "from huggingface_hub import login\n",
    "\n",
    "login(token=huggingface_api_key)"
   ],
   "id": "aaafa79785bc72a5",
   "outputs": [],
   "execution_count": null
  },
  {
   "metadata": {},
   "cell_type": "code",
   "source": [
    "wandb.login(key=wandb_api_key)\n",
    "\n",
    "run = wandb.init(\n",
    "    project=\"repurposed-llm-phishing-classifier\",\n",
    "    job_type=\"train\",\n",
    "    anonymous=\"allow\"\n",
    ")"
   ],
   "id": "1e197bf918aa209e",
   "outputs": [],
   "execution_count": null
  },
  {
   "metadata": {},
   "cell_type": "code",
   "source": [
    "base_model_path = \"../models/llama_models/llama-3.2-3B\"\n",
    "new_model_path = \"../models/tuned_models/llama-3.2-3B-phishing-classifier\"\n",
    "train_dataset_path = \"../processed_data/train.csv\"\n",
    "test_dataset_path = \"../processed_data/test.csv\""
   ],
   "id": "510dfcf5597f3943",
   "outputs": [],
   "execution_count": null
  },
  {
   "metadata": {},
   "cell_type": "code",
   "source": [
    "train_df = pd.read_csv(train_dataset_path)\n",
    "\n",
    "train_df.head()"
   ],
   "id": "a9e9e085312d0019",
   "outputs": [],
   "execution_count": null
  },
  {
   "metadata": {},
   "cell_type": "code",
   "source": [
    "model_config = {\n",
    "    \"torch_dtype\": torch.bfloat16,\n",
    "    \"attn_implementation\": \"flash_attention_2\",\n",
    "    \"device_map\": \"auto\"\n",
    "}"
   ],
   "id": "51d47220f5319bbf",
   "outputs": [],
   "execution_count": null
  },
  {
   "metadata": {},
   "cell_type": "code",
   "source": [
    "# WARNING: flash_attention_2 required pip install flash-attn which needs C++ builds tools\n",
    "# It also takes absolutely forever to compile because it's compiling CUDA kernels\n",
    "\n",
    "model = AutoModelForCausalLM.from_pretrained(\n",
    "    base_model_path,\n",
    "    device_map=model_config[\"device_map\"],\n",
    "    torch_dtype=model_config[\"torch_dtype\"],\n",
    "    attn_implementation=model_config[\"attn_implementation\"]\n",
    ")"
   ],
   "id": "ce3db8ac1a8d05c8",
   "outputs": [],
   "execution_count": null
  },
  {
   "metadata": {},
   "cell_type": "code",
   "source": "tokenizer = AutoTokenizer.from_pretrained(base_model_path, trust_remote_code=True)",
   "id": "8020da79ce3618a2",
   "outputs": [],
   "execution_count": null
  },
  {
   "metadata": {},
   "cell_type": "code",
   "source": [
    "tokenizer.chat_template = \"\"\"\n",
    "{% for message in messages %}\n",
    "<|begin_of_text|><|start_header_id|>{{ message['role'] }}<|end_header_id|>\n",
    "{{ message['content'] }}\n",
    "<|eot_id|>{% endfor %}\n",
    "\"\"\""
   ],
   "id": "956fdf1a8d3428b5",
   "outputs": [],
   "execution_count": null
  },
  {
   "metadata": {},
   "cell_type": "code",
   "source": [
    "test_messages = [\n",
    "    {\"role\": \"system\", \"content\": \"You are a classification system...\"},\n",
    "    {\"role\": \"user\", \"content\": \"Message for review: test\"},\n",
    "    {\"role\": \"assistant\", \"content\": \"true\"}\n",
    "]\n",
    "\n",
    "print(\"Test output:\", tokenizer.apply_chat_template(test_messages, tokenize=False))"
   ],
   "id": "d6a8d65164d0a1a3",
   "outputs": [],
   "execution_count": null
  },
  {
   "metadata": {},
   "cell_type": "code",
   "source": [
    "from functools import partial\n",
    "\n",
    "train_dataset = Dataset.from_pandas(pd.read_csv(train_dataset_path))\n",
    "\n",
    "def format_chat_template_batch(examples, tokenizer):  # Add tokenizer as parameter\n",
    "    formatted_texts = []\n",
    "\n",
    "    for system, user, assistant in zip(\n",
    "        examples[\"system\"],\n",
    "        examples[\"user\"],\n",
    "        examples[\"assistant\"]\n",
    "    ):\n",
    "        row_json = [\n",
    "            {\"role\": \"system\", \"content\": system},\n",
    "            {\"role\": \"user\", \"content\": user},\n",
    "            {\"role\": \"assistant\", \"content\": str(assistant)}\n",
    "        ]\n",
    "        formatted_texts.append(tokenizer.apply_chat_template(row_json, tokenize=False))\n",
    "\n",
    "    examples[\"text\"] = formatted_texts\n",
    "    return examples\n",
    "\n",
    "\n",
    "format_with_tokenizer = partial(format_chat_template_batch, tokenizer=tokenizer)\n",
    "\n",
    "train_dataset = train_dataset.map(\n",
    "    format_with_tokenizer,\n",
    "    batched=True,\n",
    "    batch_size=100\n",
    ")"
   ],
   "id": "bf843b706515345b",
   "outputs": [],
   "execution_count": null
  },
  {
   "metadata": {},
   "cell_type": "code",
   "source": [
    "test_dataset = Dataset.from_pandas(pd.read_csv(test_dataset_path))\n",
    "\n",
    "test_dataset = test_dataset.map(\n",
    "    format_with_tokenizer,\n",
    "    batched=True,\n",
    "    batch_size=100\n",
    ")"
   ],
   "id": "b010b71dc3d46ed9",
   "outputs": [],
   "execution_count": null
  },
  {
   "metadata": {},
   "cell_type": "code",
   "source": [
    "peft_config = LoraConfig(\n",
    "    r=16,\n",
    "    lora_alpha=32,\n",
    "    target_modules=[\"q_proj\", \"v_proj\"],\n",
    "    bias=\"none\",\n",
    "    task_type=\"CAUSAL_LM\",\n",
    "    inference_mode=False\n",
    ")\n",
    "\n",
    "model = get_peft_model(model, peft_config)"
   ],
   "id": "8fd2c40131e850aa",
   "outputs": [],
   "execution_count": null
  },
  {
   "metadata": {},
   "cell_type": "code",
   "source": [
    "training_arguments = TrainingArguments(\n",
    "    output_dir=new_model_path,\n",
    "    per_device_train_batch_size=2,\n",
    "    per_device_eval_batch_size=2,\n",
    "    gradient_accumulation_steps=16,\n",
    "    optim=\"paged_adamw_32bit\",\n",
    "    num_train_epochs=10,\n",
    "    eval_strategy=\"steps\",\n",
    "    eval_steps=1,\n",
    "    warmup_steps=100,\n",
    "    learning_rate=5e-5,\n",
    "    fp16=False,\n",
    "    bf16=True,\n",
    "    group_by_length=True,\n",
    "    report_to=\"wandb\",\n",
    "    neftune_noise_alpha=0.1,\n",
    "    run_name=\"actual_run_1\",\n",
    "    logging_first_step=True,\n",
    "    logging_dir=\"../logs\",\n",
    "    logging_strategy=\"steps\",\n",
    "    logging_steps=1,\n",
    "    load_best_model_at_end=True,\n",
    "    metric_for_best_model=\"eval_loss\",\n",
    "    greater_is_better=False,\n",
    "    save_total_limit=3\n",
    ")"
   ],
   "id": "f0aee664e91757ee",
   "outputs": [],
   "execution_count": null
  },
  {
   "metadata": {},
   "cell_type": "code",
   "source": [
    "trainer = SFTTrainer(\n",
    "    model=model,\n",
    "    train_dataset=train_dataset,\n",
    "    eval_dataset=test_dataset,\n",
    "    peft_config=peft_config,\n",
    "    args=training_arguments\n",
    ")"
   ],
   "id": "3503b45bfcc974f",
   "outputs": [],
   "execution_count": null
  },
  {
   "metadata": {},
   "cell_type": "code",
   "source": "trainer.train()",
   "id": "430323e15ceda5c4",
   "outputs": [],
   "execution_count": null
  }
 ],
 "metadata": {
  "kernelspec": {
   "display_name": "Python 3",
   "language": "python",
   "name": "python3"
  },
  "language_info": {
   "codemirror_mode": {
    "name": "ipython",
    "version": 2
   },
   "file_extension": ".py",
   "mimetype": "text/x-python",
   "name": "python",
   "nbconvert_exporter": "python",
   "pygments_lexer": "ipython2",
   "version": "2.7.6"
  }
 },
 "nbformat": 4,
 "nbformat_minor": 5
}
