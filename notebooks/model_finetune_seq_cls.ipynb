{
 "cells": [
  {
   "metadata": {
    "ExecuteTime": {
     "end_time": "2025-01-30T16:57:04.671037Z",
     "start_time": "2025-01-30T16:57:03.661555Z"
    }
   },
   "cell_type": "code",
   "source": [
    "import torch\n",
    "\n",
    "print(f\"CUDA available: {torch.cuda.is_available()}\")\n",
    "print(f\"CUDA version: {torch.version.cuda}\")\n",
    "if torch.cuda.is_available():\n",
    "    print(f\"GPU Device: {torch.cuda.get_device_name(0)}\")\n"
   ],
   "id": "6c66ffe4655abc5e",
   "outputs": [
    {
     "name": "stdout",
     "output_type": "stream",
     "text": [
      "CUDA available: True\n",
      "CUDA version: 12.1\n",
      "GPU Device: NVIDIA GeForce RTX 4090\n"
     ]
    }
   ],
   "execution_count": 1
  },
  {
   "metadata": {
    "ExecuteTime": {
     "end_time": "2025-01-30T16:57:04.679041Z",
     "start_time": "2025-01-30T16:57:04.673042Z"
    }
   },
   "cell_type": "code",
   "source": [
    "from dotenv import load_dotenv\n",
    "import os\n",
    "\n",
    "load_dotenv()\n",
    "\n",
    "huggingface_api_key = os.getenv(\"HUGGINGFACE_API_KEY\")\n",
    "wandb_api_key = os.getenv(\"WANDB_API_KEY\")\n",
    "\n",
    "if not huggingface_api_key:\n",
    "    raise ValueError(\"HUGGINGFACE_API_KEY not set\")\n",
    "\n",
    "if not wandb_api_key:\n",
    "    raise ValueError(\"WANDB_API_KEY not set\")"
   ],
   "id": "e533277720089dcf",
   "outputs": [],
   "execution_count": 2
  },
  {
   "metadata": {
    "ExecuteTime": {
     "end_time": "2025-01-30T16:57:06.687047Z",
     "start_time": "2025-01-30T16:57:04.752312Z"
    }
   },
   "cell_type": "code",
   "source": [
    "from transformers import (\n",
    "    AutoTokenizer,\n",
    "    TrainingArguments,\n",
    "    AutoModelForSequenceClassification,\n",
    "    Trainer,\n",
    "    DataCollatorWithPadding\n",
    ")\n",
    "\n",
    "from peft import (\n",
    "    LoraConfig,\n",
    "    get_peft_model\n",
    ")\n",
    "\n",
    "import wandb\n",
    "import pandas as pd\n",
    "from datasets import Dataset"
   ],
   "id": "9e21f997b648e218",
   "outputs": [],
   "execution_count": 3
  },
  {
   "metadata": {
    "ExecuteTime": {
     "end_time": "2025-01-30T16:57:06.969600Z",
     "start_time": "2025-01-30T16:57:06.690317Z"
    }
   },
   "cell_type": "code",
   "source": [
    "from huggingface_hub import login\n",
    "\n",
    "login(token=huggingface_api_key)"
   ],
   "id": "aaafa79785bc72a5",
   "outputs": [],
   "execution_count": 4
  },
  {
   "metadata": {
    "ExecuteTime": {
     "end_time": "2025-01-30T16:57:08.956633Z",
     "start_time": "2025-01-30T16:57:06.973507Z"
    }
   },
   "cell_type": "code",
   "source": [
    "wandb.login(key=wandb_api_key)\n",
    "\n",
    "run = wandb.init(\n",
    "    project=\"repurposed-llm-phishing-classifier-3b-instruct\",\n",
    "    job_type=\"train\",\n",
    "    anonymous=\"allow\"\n",
    ")"
   ],
   "id": "1e197bf918aa209e",
   "outputs": [
    {
     "name": "stderr",
     "output_type": "stream",
     "text": [
      "wandb: Currently logged in as: morganj-lee01 (morganj-lee01-team). Use `wandb login --relogin` to force relogin\n",
      "wandb: WARNING If you're specifying your api key in code, ensure this code is not shared publicly.\n",
      "wandb: WARNING Consider setting the WANDB_API_KEY environment variable, or running `wandb login` from the command line.\n",
      "wandb: Appending key for api.wandb.ai to your netrc file: C:\\Users\\morga\\_netrc\n",
      "wandb: Using wandb-core as the SDK backend.  Please refer to https://wandb.me/wandb-core for more information.\n"
     ]
    },
    {
     "data": {
      "text/plain": [
       "<IPython.core.display.HTML object>"
      ],
      "text/html": [
       "Tracking run with wandb version 0.19.4"
      ]
     },
     "metadata": {},
     "output_type": "display_data"
    },
    {
     "data": {
      "text/plain": [
       "<IPython.core.display.HTML object>"
      ],
      "text/html": [
       "Run data is saved locally in <code>E:\\PyCharm\\PycharmProjects\\repurposed-llm-phishing-classifier\\notebooks\\wandb\\run-20250131_005708-luhuyt7z</code>"
      ]
     },
     "metadata": {},
     "output_type": "display_data"
    },
    {
     "data": {
      "text/plain": [
       "<IPython.core.display.HTML object>"
      ],
      "text/html": [
       "Syncing run <strong><a href='https://wandb.ai/morganj-lee01-team/repurposed-llm-phishing-classifier-3b-instruct/runs/luhuyt7z?apiKey=2a1b3aadd29eb165c80f5d6458a4058c07a5a986' target=\"_blank\">charmed-yogurt-3</a></strong> to <a href='https://wandb.ai/morganj-lee01-team/repurposed-llm-phishing-classifier-3b-instruct?apiKey=2a1b3aadd29eb165c80f5d6458a4058c07a5a986' target=\"_blank\">Weights & Biases</a> (<a href='https://wandb.me/developer-guide' target=\"_blank\">docs</a>)<br>"
      ]
     },
     "metadata": {},
     "output_type": "display_data"
    },
    {
     "data": {
      "text/plain": [
       "<IPython.core.display.HTML object>"
      ],
      "text/html": [
       " View project at <a href='https://wandb.ai/morganj-lee01-team/repurposed-llm-phishing-classifier-3b-instruct?apiKey=2a1b3aadd29eb165c80f5d6458a4058c07a5a986' target=\"_blank\">https://wandb.ai/morganj-lee01-team/repurposed-llm-phishing-classifier-3b-instruct?apiKey=2a1b3aadd29eb165c80f5d6458a4058c07a5a986</a>"
      ]
     },
     "metadata": {},
     "output_type": "display_data"
    },
    {
     "data": {
      "text/plain": [
       "<IPython.core.display.HTML object>"
      ],
      "text/html": [
       " View run at <a href='https://wandb.ai/morganj-lee01-team/repurposed-llm-phishing-classifier-3b-instruct/runs/luhuyt7z?apiKey=2a1b3aadd29eb165c80f5d6458a4058c07a5a986' target=\"_blank\">https://wandb.ai/morganj-lee01-team/repurposed-llm-phishing-classifier-3b-instruct/runs/luhuyt7z?apiKey=2a1b3aadd29eb165c80f5d6458a4058c07a5a986</a>"
      ]
     },
     "metadata": {},
     "output_type": "display_data"
    },
    {
     "data": {
      "text/plain": [
       "<IPython.core.display.HTML object>"
      ],
      "text/html": [
       "Do NOT share these links with anyone. They can be used to claim your runs."
      ]
     },
     "metadata": {},
     "output_type": "display_data"
    }
   ],
   "execution_count": 5
  },
  {
   "metadata": {
    "ExecuteTime": {
     "end_time": "2025-01-30T16:57:08.962520Z",
     "start_time": "2025-01-30T16:57:08.959926Z"
    }
   },
   "cell_type": "code",
   "source": [
    "base_model_path = \"../models/llama_models/llama-3.2-3B-Instruct\"\n",
    "new_model_path = \"../models/tuned_models/llama-3.2-3B-phishing-classifier-seq-cls-3b-instruct\"\n",
    "train_dataset_path = \"../processed_data/train.csv\"\n",
    "test_dataset_path = \"../processed_data/test.csv\""
   ],
   "id": "510dfcf5597f3943",
   "outputs": [],
   "execution_count": 6
  },
  {
   "metadata": {
    "ExecuteTime": {
     "end_time": "2025-01-30T16:57:09.236675Z",
     "start_time": "2025-01-30T16:57:08.966208Z"
    }
   },
   "cell_type": "code",
   "source": [
    "train_df = pd.read_csv(train_dataset_path)\n",
    "\n",
    "train_df.head()"
   ],
   "id": "a9e9e085312d0019",
   "outputs": [
    {
     "data": {
      "text/plain": [
       "                                              system  \\\n",
       "0  You are a classification system designed to ca...   \n",
       "1  You are a classification system designed to ca...   \n",
       "2  You are a classification system designed to ca...   \n",
       "3  You are a classification system designed to ca...   \n",
       "4  You are a classification system designed to ca...   \n",
       "\n",
       "                                                user  assistant  \n",
       "0  Message for review: write me back please year ...       True  \n",
       "1  Message for review: I just picked up Razor SDK...      False  \n",
       "2  Message for review: vacation goodmorning , i w...      False  \n",
       "3  Message for review: On Thu, Aug 08, 2002 at 11...      False  \n",
       "4  Message for review: wellheads shoreline has se...      False  "
      ],
      "text/html": [
       "<div>\n",
       "<style scoped>\n",
       "    .dataframe tbody tr th:only-of-type {\n",
       "        vertical-align: middle;\n",
       "    }\n",
       "\n",
       "    .dataframe tbody tr th {\n",
       "        vertical-align: top;\n",
       "    }\n",
       "\n",
       "    .dataframe thead th {\n",
       "        text-align: right;\n",
       "    }\n",
       "</style>\n",
       "<table border=\"1\" class=\"dataframe\">\n",
       "  <thead>\n",
       "    <tr style=\"text-align: right;\">\n",
       "      <th></th>\n",
       "      <th>system</th>\n",
       "      <th>user</th>\n",
       "      <th>assistant</th>\n",
       "    </tr>\n",
       "  </thead>\n",
       "  <tbody>\n",
       "    <tr>\n",
       "      <th>0</th>\n",
       "      <td>You are a classification system designed to ca...</td>\n",
       "      <td>Message for review: write me back please year ...</td>\n",
       "      <td>True</td>\n",
       "    </tr>\n",
       "    <tr>\n",
       "      <th>1</th>\n",
       "      <td>You are a classification system designed to ca...</td>\n",
       "      <td>Message for review: I just picked up Razor SDK...</td>\n",
       "      <td>False</td>\n",
       "    </tr>\n",
       "    <tr>\n",
       "      <th>2</th>\n",
       "      <td>You are a classification system designed to ca...</td>\n",
       "      <td>Message for review: vacation goodmorning , i w...</td>\n",
       "      <td>False</td>\n",
       "    </tr>\n",
       "    <tr>\n",
       "      <th>3</th>\n",
       "      <td>You are a classification system designed to ca...</td>\n",
       "      <td>Message for review: On Thu, Aug 08, 2002 at 11...</td>\n",
       "      <td>False</td>\n",
       "    </tr>\n",
       "    <tr>\n",
       "      <th>4</th>\n",
       "      <td>You are a classification system designed to ca...</td>\n",
       "      <td>Message for review: wellheads shoreline has se...</td>\n",
       "      <td>False</td>\n",
       "    </tr>\n",
       "  </tbody>\n",
       "</table>\n",
       "</div>"
      ]
     },
     "execution_count": 7,
     "metadata": {},
     "output_type": "execute_result"
    }
   ],
   "execution_count": 7
  },
  {
   "metadata": {
    "ExecuteTime": {
     "end_time": "2025-01-30T16:57:09.262057Z",
     "start_time": "2025-01-30T16:57:09.259164Z"
    }
   },
   "cell_type": "code",
   "source": [
    "model_config = {\n",
    "    \"torch_dtype\": torch.bfloat16,\n",
    "    \"attn_implementation\": \"flash_attention_2\",\n",
    "    \"device_map\": \"auto\"\n",
    "}"
   ],
   "id": "51d47220f5319bbf",
   "outputs": [],
   "execution_count": 8
  },
  {
   "metadata": {
    "ExecuteTime": {
     "end_time": "2025-01-30T16:57:12.080210Z",
     "start_time": "2025-01-30T16:57:09.280448Z"
    }
   },
   "cell_type": "code",
   "source": [
    "# WARNING: flash_attention_2 required pip install flash-attn which needs C++ builds tools\n",
    "# It also takes absolutely forever to compile because it's compiling CUDA kernels\n",
    "\n",
    "model = AutoModelForSequenceClassification.from_pretrained(\n",
    "    base_model_path,\n",
    "    num_labels=2,\n",
    "    device_map=model_config[\"device_map\"],\n",
    "    torch_dtype=model_config[\"torch_dtype\"],\n",
    "    attn_implementation=model_config[\"attn_implementation\"]\n",
    ")"
   ],
   "id": "ce3db8ac1a8d05c8",
   "outputs": [
    {
     "data": {
      "text/plain": [
       "Loading checkpoint shards:   0%|          | 0/2 [00:00<?, ?it/s]"
      ],
      "application/vnd.jupyter.widget-view+json": {
       "version_major": 2,
       "version_minor": 0,
       "model_id": "d9ec6bbe67ac43f6938441d9e7a6be20"
      }
     },
     "metadata": {},
     "output_type": "display_data"
    },
    {
     "name": "stderr",
     "output_type": "stream",
     "text": [
      "Some weights of LlamaForSequenceClassification were not initialized from the model checkpoint at ../models/llama_models/llama-3.2-3B-Instruct and are newly initialized: ['score.weight']\n",
      "You should probably TRAIN this model on a down-stream task to be able to use it for predictions and inference.\n"
     ]
    }
   ],
   "execution_count": 9
  },
  {
   "metadata": {
    "ExecuteTime": {
     "end_time": "2025-01-30T16:57:12.284519Z",
     "start_time": "2025-01-30T16:57:12.082212Z"
    }
   },
   "cell_type": "code",
   "source": "tokenizer = AutoTokenizer.from_pretrained(base_model_path, trust_remote_code=True)",
   "id": "8020da79ce3618a2",
   "outputs": [],
   "execution_count": 10
  },
  {
   "metadata": {
    "ExecuteTime": {
     "end_time": "2025-01-30T16:57:12.306815Z",
     "start_time": "2025-01-30T16:57:12.300645Z"
    }
   },
   "cell_type": "code",
   "source": [
    "print(\"Default special tokens:\")\n",
    "print(tokenizer.special_tokens_map)\n",
    "\n",
    "print(\"\\nSpecial token IDs:\")\n",
    "for token in tokenizer.all_special_tokens:\n",
    "    print(f\"{token}: {tokenizer.convert_tokens_to_ids(token)}\")"
   ],
   "id": "138011528cbe76b9",
   "outputs": [
    {
     "name": "stdout",
     "output_type": "stream",
     "text": [
      "Default special tokens:\n",
      "{'bos_token': '<|begin_of_text|>', 'eos_token': '<|eot_id|>'}\n",
      "\n",
      "Special token IDs:\n",
      "<|begin_of_text|>: 128000\n",
      "<|eot_id|>: 128009\n"
     ]
    }
   ],
   "execution_count": 11
  },
  {
   "metadata": {
    "ExecuteTime": {
     "end_time": "2025-01-30T16:57:12.326529Z",
     "start_time": "2025-01-30T16:57:12.321729Z"
    }
   },
   "cell_type": "code",
   "source": [
    "print(\"Chat template:\")\n",
    "print(tokenizer.chat_template)"
   ],
   "id": "135953899a7a8a3e",
   "outputs": [
    {
     "name": "stdout",
     "output_type": "stream",
     "text": [
      "Chat template:\n",
      "{{- bos_token }}\n",
      "{%- if custom_tools is defined %}\n",
      "    {%- set tools = custom_tools %}\n",
      "{%- endif %}\n",
      "{%- if not tools_in_user_message is defined %}\n",
      "    {%- set tools_in_user_message = true %}\n",
      "{%- endif %}\n",
      "{%- if not date_string is defined %}\n",
      "    {%- if strftime_now is defined %}\n",
      "        {%- set date_string = strftime_now(\"%d %b %Y\") %}\n",
      "    {%- else %}\n",
      "        {%- set date_string = \"26 Jul 2024\" %}\n",
      "    {%- endif %}\n",
      "{%- endif %}\n",
      "{%- if not tools is defined %}\n",
      "    {%- set tools = none %}\n",
      "{%- endif %}\n",
      "\n",
      "{#- This block extracts the system message, so we can slot it into the right place. #}\n",
      "{%- if messages[0]['role'] == 'system' %}\n",
      "    {%- set system_message = messages[0]['content']|trim %}\n",
      "    {%- set messages = messages[1:] %}\n",
      "{%- else %}\n",
      "    {%- set system_message = \"\" %}\n",
      "{%- endif %}\n",
      "\n",
      "{#- System message #}\n",
      "{{- \"<|start_header_id|>system<|end_header_id|>\\n\\n\" }}\n",
      "{%- if tools is not none %}\n",
      "    {{- \"Environment: ipython\\n\" }}\n",
      "{%- endif %}\n",
      "{{- \"Cutting Knowledge Date: December 2023\\n\" }}\n",
      "{{- \"Today Date: \" + date_string + \"\\n\\n\" }}\n",
      "{%- if tools is not none and not tools_in_user_message %}\n",
      "    {{- \"You have access to the following functions. To call a function, please respond with JSON for a function call.\" }}\n",
      "    {{- 'Respond in the format {\"name\": function name, \"parameters\": dictionary of argument name and its value}.' }}\n",
      "    {{- \"Do not use variables.\\n\\n\" }}\n",
      "    {%- for t in tools %}\n",
      "        {{- t | tojson(indent=4) }}\n",
      "        {{- \"\\n\\n\" }}\n",
      "    {%- endfor %}\n",
      "{%- endif %}\n",
      "{{- system_message }}\n",
      "{{- \"<|eot_id|>\" }}\n",
      "\n",
      "{#- Custom tools are passed in a user message with some extra guidance #}\n",
      "{%- if tools_in_user_message and not tools is none %}\n",
      "    {#- Extract the first user message so we can plug it in here #}\n",
      "    {%- if messages | length != 0 %}\n",
      "        {%- set first_user_message = messages[0]['content']|trim %}\n",
      "        {%- set messages = messages[1:] %}\n",
      "    {%- else %}\n",
      "        {{- raise_exception(\"Cannot put tools in the first user message when there's no first user message!\") }}\n",
      "{%- endif %}\n",
      "    {{- '<|start_header_id|>user<|end_header_id|>\\n\\n' -}}\n",
      "    {{- \"Given the following functions, please respond with a JSON for a function call \" }}\n",
      "    {{- \"with its proper arguments that best answers the given prompt.\\n\\n\" }}\n",
      "    {{- 'Respond in the format {\"name\": function name, \"parameters\": dictionary of argument name and its value}.' }}\n",
      "    {{- \"Do not use variables.\\n\\n\" }}\n",
      "    {%- for t in tools %}\n",
      "        {{- t | tojson(indent=4) }}\n",
      "        {{- \"\\n\\n\" }}\n",
      "    {%- endfor %}\n",
      "    {{- first_user_message + \"<|eot_id|>\"}}\n",
      "{%- endif %}\n",
      "\n",
      "{%- for message in messages %}\n",
      "    {%- if not (message.role == 'ipython' or message.role == 'tool' or 'tool_calls' in message) %}\n",
      "        {{- '<|start_header_id|>' + message['role'] + '<|end_header_id|>\\n\\n'+ message['content'] | trim + '<|eot_id|>' }}\n",
      "    {%- elif 'tool_calls' in message %}\n",
      "        {%- if not message.tool_calls|length == 1 %}\n",
      "            {{- raise_exception(\"This model only supports single tool-calls at once!\") }}\n",
      "        {%- endif %}\n",
      "        {%- set tool_call = message.tool_calls[0].function %}\n",
      "        {{- '<|start_header_id|>assistant<|end_header_id|>\\n\\n' -}}\n",
      "        {{- '{\"name\": \"' + tool_call.name + '\", ' }}\n",
      "        {{- '\"parameters\": ' }}\n",
      "        {{- tool_call.arguments | tojson }}\n",
      "        {{- \"}\" }}\n",
      "        {{- \"<|eot_id|>\" }}\n",
      "    {%- elif message.role == \"tool\" or message.role == \"ipython\" %}\n",
      "        {{- \"<|start_header_id|>ipython<|end_header_id|>\\n\\n\" }}\n",
      "        {%- if message.content is mapping or message.content is iterable %}\n",
      "            {{- message.content | tojson }}\n",
      "        {%- else %}\n",
      "            {{- message.content }}\n",
      "        {%- endif %}\n",
      "        {{- \"<|eot_id|>\" }}\n",
      "    {%- endif %}\n",
      "{%- endfor %}\n",
      "{%- if add_generation_prompt %}\n",
      "    {{- '<|start_header_id|>assistant<|end_header_id|>\\n\\n' }}\n",
      "{%- endif %}\n",
      "\n"
     ]
    }
   ],
   "execution_count": 12
  },
  {
   "metadata": {
    "ExecuteTime": {
     "end_time": "2025-01-30T16:57:12.344392Z",
     "start_time": "2025-01-30T16:57:12.341543Z"
    }
   },
   "cell_type": "code",
   "source": [
    "# COMMENTED OUT BECAUSE INSTRUCT HAS A CHAT TEMPLATE BUT BASE MODEL DOES NOT\n",
    "\n",
    "# tokenizer.chat_template = None\n",
    "#\n",
    "# tokenizer.chat_template = \"\"\"{% for message in messages %}<|start_header_id|>{{ message['role'] }}<|end_header_id|>{{ message['content'] }}<|eot_id|>{% endfor %}\"\"\"\n"
   ],
   "id": "956fdf1a8d3428b5",
   "outputs": [],
   "execution_count": 13
  },
  {
   "metadata": {
    "ExecuteTime": {
     "end_time": "2025-01-30T16:57:12.371921Z",
     "start_time": "2025-01-30T16:57:12.358839Z"
    }
   },
   "cell_type": "code",
   "source": [
    "test_messages = [\n",
    "    {\"role\": \"system\", \"content\": \"You are a classification system...\"},\n",
    "    {\"role\": \"user\", \"content\": \"Message for review: test\"},\n",
    "    {\"role\": \"assistant\", \"content\": \"true\"}\n",
    "]\n",
    "\n",
    "output = tokenizer.apply_chat_template(test_messages, tokenize=False)\n",
    "print(\"Length:\", len(output))\n",
    "print(\"Content:\", output)"
   ],
   "id": "d6a8d65164d0a1a3",
   "outputs": [
    {
     "name": "stdout",
     "output_type": "stream",
     "text": [
      "Length: 305\n",
      "Content: <|begin_of_text|><|start_header_id|>system<|end_header_id|>\n",
      "\n",
      "Cutting Knowledge Date: December 2023\n",
      "Today Date: 31 Jan 2025\n",
      "\n",
      "You are a classification system...<|eot_id|><|start_header_id|>user<|end_header_id|>\n",
      "\n",
      "Message for review: test<|eot_id|><|start_header_id|>assistant<|end_header_id|>\n",
      "\n",
      "true<|eot_id|>\n"
     ]
    }
   ],
   "execution_count": 14
  },
  {
   "metadata": {
    "ExecuteTime": {
     "end_time": "2025-01-30T16:57:12.400048Z",
     "start_time": "2025-01-30T16:57:12.387458Z"
    }
   },
   "cell_type": "code",
   "source": [
    "special_tokens = {\n",
    "    \"additional_special_tokens\": [\n",
    "        \"<|start_header_id|>\",\n",
    "        \"<|end_header_id|>\",\n",
    "        \"<|eot_id|>\"\n",
    "    ]\n",
    "}\n",
    "tokenizer.add_special_tokens(special_tokens)\n",
    "model.resize_token_embeddings(len(tokenizer))"
   ],
   "id": "6aaf60ffc8a426f1",
   "outputs": [
    {
     "data": {
      "text/plain": [
       "Embedding(128256, 3072)"
      ]
     },
     "execution_count": 15,
     "metadata": {},
     "output_type": "execute_result"
    }
   ],
   "execution_count": 15
  },
  {
   "metadata": {
    "ExecuteTime": {
     "end_time": "2025-01-30T16:57:12.418324Z",
     "start_time": "2025-01-30T16:57:12.415293Z"
    }
   },
   "cell_type": "code",
   "source": [
    "tokenizer.pad_token = tokenizer.eos_token\n",
    "model.config.pad_token_id = tokenizer.eos_token_id"
   ],
   "id": "d2d87b5903dd656c",
   "outputs": [],
   "execution_count": 16
  },
  {
   "metadata": {
    "ExecuteTime": {
     "end_time": "2025-01-30T16:57:24.719931Z",
     "start_time": "2025-01-30T16:57:12.433768Z"
    }
   },
   "cell_type": "code",
   "source": [
    "from functools import partial\n",
    "\n",
    "train_dataset = Dataset.from_pandas(pd.read_csv(train_dataset_path))\n",
    "\n",
    "def format_chat_template_batch(examples, tokenizer):\n",
    "    formatted_texts = []\n",
    "    labels = []\n",
    "\n",
    "    for system, user, assistant in zip(\n",
    "        examples[\"system\"],\n",
    "        examples[\"user\"],\n",
    "        examples[\"assistant\"]\n",
    "    ):\n",
    "        row_json = [\n",
    "            {\"role\": \"system\", \"content\": system},\n",
    "            {\"role\": \"user\", \"content\": user},\n",
    "            {\"role\": \"assistant\", \"content\": \"\"}\n",
    "        ]\n",
    "        formatted_texts.append(tokenizer.apply_chat_template(row_json, tokenize=False))\n",
    "        labels.append(1 if str(assistant).lower() == \"true\" else 0)\n",
    "\n",
    "    tokenized = tokenizer(\n",
    "        formatted_texts,\n",
    "        padding='max_length',\n",
    "        truncation=True,\n",
    "        max_length=512,\n",
    "        return_tensors=None\n",
    "    )\n",
    "\n",
    "    examples.update(tokenized)\n",
    "    examples[\"labels\"] = labels\n",
    "    return examples\n",
    "\n",
    "\n",
    "format_with_tokenizer = partial(format_chat_template_batch, tokenizer=tokenizer)\n",
    "\n",
    "train_dataset = train_dataset.map(\n",
    "    format_with_tokenizer,\n",
    "    batched=True,\n",
    "    batch_size=100\n",
    ")"
   ],
   "id": "bf843b706515345b",
   "outputs": [
    {
     "data": {
      "text/plain": [
       "Map:   0%|          | 0/14920 [00:00<?, ? examples/s]"
      ],
      "application/vnd.jupyter.widget-view+json": {
       "version_major": 2,
       "version_minor": 0,
       "model_id": "d7afbd5edb644c40993ba53b9cda4b92"
      }
     },
     "metadata": {},
     "output_type": "display_data"
    }
   ],
   "execution_count": 17
  },
  {
   "metadata": {
    "ExecuteTime": {
     "end_time": "2025-01-30T16:57:26.518921Z",
     "start_time": "2025-01-30T16:57:24.735402Z"
    }
   },
   "cell_type": "code",
   "source": [
    "print(\"Tokenized input:\")\n",
    "input_ids = train_dataset[\"input_ids\"][5]  # This is already a list of token IDs\n",
    "for token_id in input_ids:\n",
    "    print(f\"{token_id}: {tokenizer.decode([token_id])}\")"
   ],
   "id": "796124316dfdfe63",
   "outputs": [
    {
     "name": "stdout",
     "output_type": "stream",
     "text": [
      "Tokenized input:\n",
      "128000: <|begin_of_text|>\n",
      "128000: <|begin_of_text|>\n",
      "128006: <|start_header_id|>\n",
      "9125: system\n",
      "128007: <|end_header_id|>\n",
      "271: \n",
      "\n",
      "\n",
      "38766: Cut\n",
      "1303: ting\n",
      "33025:  Knowledge\n",
      "2696:  Date\n",
      "25: :\n",
      "6790:  December\n",
      "220:  \n",
      "2366: 202\n",
      "18: 3\n",
      "198: \n",
      "\n",
      "15724: Today\n",
      "2696:  Date\n",
      "25: :\n",
      "220:  \n",
      "2148: 31\n",
      "4448:  Jan\n",
      "220:  \n",
      "2366: 202\n",
      "20: 5\n",
      "271: \n",
      "\n",
      "\n",
      "2675: You\n",
      "527:  are\n",
      "264:  a\n",
      "24790:  classification\n",
      "1887:  system\n",
      "6319:  designed\n",
      "311:  to\n",
      "2339:  catch\n",
      "99197:  phishing\n",
      "6743:  messages\n",
      "311:  to\n",
      "6144:  protect\n",
      "1274:  people\n",
      "505:  from\n",
      "16515:  fraud\n",
      "12855: sters\n",
      "323:  and\n",
      "32638:  criminals\n",
      "13: .\n",
      "1472:  You\n",
      "690:  will\n",
      "5371:  receive\n",
      "264:  a\n",
      "1984:  message\n",
      "369:  for\n",
      "3477:  review\n",
      "323:  and\n",
      "422:  if\n",
      "433:  it\n",
      "374:  is\n",
      "264:  a\n",
      "99197:  phishing\n",
      "2613:  email\n",
      "11: ,\n",
      "499:  you\n",
      "28832:  MUST\n",
      "6013:  respond\n",
      "449:  with\n",
      "1193:  only\n",
      "364:  '\n",
      "1904: true\n",
      "6: '\n",
      "422:  if\n",
      "433:  it\n",
      "374:  is\n",
      "99197:  phishing\n",
      "11: ,\n",
      "477:  or\n",
      "364:  '\n",
      "3934: false\n",
      "6: '\n",
      "422:  if\n",
      "433:  it\n",
      "374:  is\n",
      "539:  not\n",
      "99197:  phishing\n",
      "13: .\n",
      "25274:  Making\n",
      "264:  a\n",
      "16930:  mistake\n",
      "477:  or\n",
      "22109:  failing\n",
      "311:  to\n",
      "26069:  comply\n",
      "449:  with\n",
      "279:  the\n",
      "2612:  output\n",
      "3645:  format\n",
      "649:  can\n",
      "1121:  result\n",
      "304:  in\n",
      "6129:  serious\n",
      "11682:  harm\n",
      "311:  to\n",
      "20134:  vulnerable\n",
      "1274:  people\n",
      "13: .\n",
      "128009: <|eot_id|>\n",
      "128006: <|start_header_id|>\n",
      "882: user\n",
      "128007: <|end_header_id|>\n",
      "271: \n",
      "\n",
      "\n",
      "2097: Message\n",
      "369:  for\n",
      "3477:  review\n",
      "25: :\n",
      "1952:  On\n",
      "13479:  Sat\n",
      "11: ,\n",
      "220:  \n",
      "1187: 24\n",
      "5033:  Aug\n",
      "220:  \n",
      "1049: 200\n",
      "17: 2\n",
      "11: ,\n",
      "15387:  Adam\n",
      "445:  L\n",
      "13: .\n",
      "2893:  Be\n",
      "7881: berg\n",
      "6267:  wrote\n",
      "25: :\n",
      "313: --\n",
      "60: ]\n",
      "3112: And\n",
      "3686:  yet\n",
      "93350:  STILL\n",
      "912:  no\n",
      "606: one\n",
      "374:  is\n",
      "704:  out\n",
      "1070:  there\n",
      "6968:  creating\n",
      "721:  _\n",
      "898: public\n",
      "8106:  domain\n",
      "62: _\n",
      "2262:  content\n",
      "13: .\n",
      "2209:  Is\n",
      "1070:  there\n",
      "198: \n",
      "\n",
      "313: --\n",
      "60: ]\n",
      "17206: even\n",
      "832:  one\n",
      "1732:  person\n",
      "704:  out\n",
      "1070:  there\n",
      "649:  can\n",
      "649:  can\n",
      "1524:  even\n",
      "3240:  begin\n",
      "311:  to\n",
      "3137:  talk\n",
      "2085:  without\n",
      "1694:  being\n",
      "264:  a\n",
      "198: \n",
      "\n",
      "313: --\n",
      "60: ]\n",
      "15079: complete\n",
      "67586:  hypoc\n",
      "1269: rite\n",
      "30: ?\n",
      "1628:  And\n",
      "912:  no\n",
      "279:  the\n",
      "330:  \"\n",
      "2569: open\n",
      "2592:  source\n",
      "1: \"\n",
      "1274:  people\n",
      "16869:  cant\n",
      "3137:  talk\n",
      "3060:  either\n",
      "11: ,\n",
      "279:  the\n",
      "198: \n",
      "\n",
      "313: --\n",
      "60: ]\n",
      "37934: GPL\n",
      "264:  a\n",
      "396: int\n",
      "1524:  even\n",
      "3345:  close\n",
      "13: .\n",
      "358:  I\n",
      "1440:  know\n",
      "358:  I\n",
      "16869:  cant\n",
      "3137:  talk\n",
      "627: .\n",
      "\n",
      "2460: All\n",
      "856:  my\n",
      "4731:  music\n",
      "374:  is\n",
      "304:  in\n",
      "279:  the\n",
      "3142:  Public\n",
      "21749:  Domain\n",
      "627: .\n",
      "\n",
      "3947: There\n",
      "527:  are\n",
      "3885:  others\n",
      "627: .\n",
      "\n",
      "1277: http\n",
      "1129: ://\n",
      "87: x\n",
      "306: ent\n",
      "916: .com\n",
      "61919: /mail\n",
      "1543: man\n",
      "21609: /list\n",
      "2801: info\n",
      "6801: /f\n",
      "672: ork\n",
      "128009: <|eot_id|>\n",
      "128006: <|start_header_id|>\n",
      "78191: assistant\n",
      "128007: <|end_header_id|>\n",
      "271: \n",
      "\n",
      "\n",
      "128009: <|eot_id|>\n",
      "128009: <|eot_id|>\n",
      "128009: <|eot_id|>\n",
      "128009: <|eot_id|>\n",
      "128009: <|eot_id|>\n",
      "128009: <|eot_id|>\n",
      "128009: <|eot_id|>\n",
      "128009: <|eot_id|>\n",
      "128009: <|eot_id|>\n",
      "128009: <|eot_id|>\n",
      "128009: <|eot_id|>\n",
      "128009: <|eot_id|>\n",
      "128009: <|eot_id|>\n",
      "128009: <|eot_id|>\n",
      "128009: <|eot_id|>\n",
      "128009: <|eot_id|>\n",
      "128009: <|eot_id|>\n",
      "128009: <|eot_id|>\n",
      "128009: <|eot_id|>\n",
      "128009: <|eot_id|>\n",
      "128009: <|eot_id|>\n",
      "128009: <|eot_id|>\n",
      "128009: <|eot_id|>\n",
      "128009: <|eot_id|>\n",
      "128009: <|eot_id|>\n",
      "128009: <|eot_id|>\n",
      "128009: <|eot_id|>\n",
      "128009: <|eot_id|>\n",
      "128009: <|eot_id|>\n",
      "128009: <|eot_id|>\n",
      "128009: <|eot_id|>\n",
      "128009: <|eot_id|>\n",
      "128009: <|eot_id|>\n",
      "128009: <|eot_id|>\n",
      "128009: <|eot_id|>\n",
      "128009: <|eot_id|>\n",
      "128009: <|eot_id|>\n",
      "128009: <|eot_id|>\n",
      "128009: <|eot_id|>\n",
      "128009: <|eot_id|>\n",
      "128009: <|eot_id|>\n",
      "128009: <|eot_id|>\n",
      "128009: <|eot_id|>\n",
      "128009: <|eot_id|>\n",
      "128009: <|eot_id|>\n",
      "128009: <|eot_id|>\n",
      "128009: <|eot_id|>\n",
      "128009: <|eot_id|>\n",
      "128009: <|eot_id|>\n",
      "128009: <|eot_id|>\n",
      "128009: <|eot_id|>\n",
      "128009: <|eot_id|>\n",
      "128009: <|eot_id|>\n",
      "128009: <|eot_id|>\n",
      "128009: <|eot_id|>\n",
      "128009: <|eot_id|>\n",
      "128009: <|eot_id|>\n",
      "128009: <|eot_id|>\n",
      "128009: <|eot_id|>\n",
      "128009: <|eot_id|>\n",
      "128009: <|eot_id|>\n",
      "128009: <|eot_id|>\n",
      "128009: <|eot_id|>\n",
      "128009: <|eot_id|>\n",
      "128009: <|eot_id|>\n",
      "128009: <|eot_id|>\n",
      "128009: <|eot_id|>\n",
      "128009: <|eot_id|>\n",
      "128009: <|eot_id|>\n",
      "128009: <|eot_id|>\n",
      "128009: <|eot_id|>\n",
      "128009: <|eot_id|>\n",
      "128009: <|eot_id|>\n",
      "128009: <|eot_id|>\n",
      "128009: <|eot_id|>\n",
      "128009: <|eot_id|>\n",
      "128009: <|eot_id|>\n",
      "128009: <|eot_id|>\n",
      "128009: <|eot_id|>\n",
      "128009: <|eot_id|>\n",
      "128009: <|eot_id|>\n",
      "128009: <|eot_id|>\n",
      "128009: <|eot_id|>\n",
      "128009: <|eot_id|>\n",
      "128009: <|eot_id|>\n",
      "128009: <|eot_id|>\n",
      "128009: <|eot_id|>\n",
      "128009: <|eot_id|>\n",
      "128009: <|eot_id|>\n",
      "128009: <|eot_id|>\n",
      "128009: <|eot_id|>\n",
      "128009: <|eot_id|>\n",
      "128009: <|eot_id|>\n",
      "128009: <|eot_id|>\n",
      "128009: <|eot_id|>\n",
      "128009: <|eot_id|>\n",
      "128009: <|eot_id|>\n",
      "128009: <|eot_id|>\n",
      "128009: <|eot_id|>\n",
      "128009: <|eot_id|>\n",
      "128009: <|eot_id|>\n",
      "128009: <|eot_id|>\n",
      "128009: <|eot_id|>\n",
      "128009: <|eot_id|>\n",
      "128009: <|eot_id|>\n",
      "128009: <|eot_id|>\n",
      "128009: <|eot_id|>\n",
      "128009: <|eot_id|>\n",
      "128009: <|eot_id|>\n",
      "128009: <|eot_id|>\n",
      "128009: <|eot_id|>\n",
      "128009: <|eot_id|>\n",
      "128009: <|eot_id|>\n",
      "128009: <|eot_id|>\n",
      "128009: <|eot_id|>\n",
      "128009: <|eot_id|>\n",
      "128009: <|eot_id|>\n",
      "128009: <|eot_id|>\n",
      "128009: <|eot_id|>\n",
      "128009: <|eot_id|>\n",
      "128009: <|eot_id|>\n",
      "128009: <|eot_id|>\n",
      "128009: <|eot_id|>\n",
      "128009: <|eot_id|>\n",
      "128009: <|eot_id|>\n",
      "128009: <|eot_id|>\n",
      "128009: <|eot_id|>\n",
      "128009: <|eot_id|>\n",
      "128009: <|eot_id|>\n",
      "128009: <|eot_id|>\n",
      "128009: <|eot_id|>\n",
      "128009: <|eot_id|>\n",
      "128009: <|eot_id|>\n",
      "128009: <|eot_id|>\n",
      "128009: <|eot_id|>\n",
      "128009: <|eot_id|>\n",
      "128009: <|eot_id|>\n",
      "128009: <|eot_id|>\n",
      "128009: <|eot_id|>\n",
      "128009: <|eot_id|>\n",
      "128009: <|eot_id|>\n",
      "128009: <|eot_id|>\n",
      "128009: <|eot_id|>\n",
      "128009: <|eot_id|>\n",
      "128009: <|eot_id|>\n",
      "128009: <|eot_id|>\n",
      "128009: <|eot_id|>\n",
      "128009: <|eot_id|>\n",
      "128009: <|eot_id|>\n",
      "128009: <|eot_id|>\n",
      "128009: <|eot_id|>\n",
      "128009: <|eot_id|>\n",
      "128009: <|eot_id|>\n",
      "128009: <|eot_id|>\n",
      "128009: <|eot_id|>\n",
      "128009: <|eot_id|>\n",
      "128009: <|eot_id|>\n",
      "128009: <|eot_id|>\n",
      "128009: <|eot_id|>\n",
      "128009: <|eot_id|>\n",
      "128009: <|eot_id|>\n",
      "128009: <|eot_id|>\n",
      "128009: <|eot_id|>\n",
      "128009: <|eot_id|>\n",
      "128009: <|eot_id|>\n",
      "128009: <|eot_id|>\n",
      "128009: <|eot_id|>\n",
      "128009: <|eot_id|>\n",
      "128009: <|eot_id|>\n",
      "128009: <|eot_id|>\n",
      "128009: <|eot_id|>\n",
      "128009: <|eot_id|>\n",
      "128009: <|eot_id|>\n",
      "128009: <|eot_id|>\n",
      "128009: <|eot_id|>\n",
      "128009: <|eot_id|>\n",
      "128009: <|eot_id|>\n",
      "128009: <|eot_id|>\n",
      "128009: <|eot_id|>\n",
      "128009: <|eot_id|>\n",
      "128009: <|eot_id|>\n",
      "128009: <|eot_id|>\n",
      "128009: <|eot_id|>\n",
      "128009: <|eot_id|>\n",
      "128009: <|eot_id|>\n",
      "128009: <|eot_id|>\n",
      "128009: <|eot_id|>\n",
      "128009: <|eot_id|>\n",
      "128009: <|eot_id|>\n",
      "128009: <|eot_id|>\n",
      "128009: <|eot_id|>\n",
      "128009: <|eot_id|>\n",
      "128009: <|eot_id|>\n",
      "128009: <|eot_id|>\n",
      "128009: <|eot_id|>\n",
      "128009: <|eot_id|>\n",
      "128009: <|eot_id|>\n",
      "128009: <|eot_id|>\n",
      "128009: <|eot_id|>\n",
      "128009: <|eot_id|>\n",
      "128009: <|eot_id|>\n",
      "128009: <|eot_id|>\n",
      "128009: <|eot_id|>\n",
      "128009: <|eot_id|>\n",
      "128009: <|eot_id|>\n",
      "128009: <|eot_id|>\n",
      "128009: <|eot_id|>\n",
      "128009: <|eot_id|>\n",
      "128009: <|eot_id|>\n",
      "128009: <|eot_id|>\n",
      "128009: <|eot_id|>\n",
      "128009: <|eot_id|>\n",
      "128009: <|eot_id|>\n",
      "128009: <|eot_id|>\n",
      "128009: <|eot_id|>\n",
      "128009: <|eot_id|>\n",
      "128009: <|eot_id|>\n",
      "128009: <|eot_id|>\n",
      "128009: <|eot_id|>\n",
      "128009: <|eot_id|>\n",
      "128009: <|eot_id|>\n",
      "128009: <|eot_id|>\n",
      "128009: <|eot_id|>\n",
      "128009: <|eot_id|>\n",
      "128009: <|eot_id|>\n",
      "128009: <|eot_id|>\n",
      "128009: <|eot_id|>\n",
      "128009: <|eot_id|>\n",
      "128009: <|eot_id|>\n",
      "128009: <|eot_id|>\n",
      "128009: <|eot_id|>\n",
      "128009: <|eot_id|>\n",
      "128009: <|eot_id|>\n",
      "128009: <|eot_id|>\n",
      "128009: <|eot_id|>\n",
      "128009: <|eot_id|>\n",
      "128009: <|eot_id|>\n",
      "128009: <|eot_id|>\n",
      "128009: <|eot_id|>\n",
      "128009: <|eot_id|>\n",
      "128009: <|eot_id|>\n",
      "128009: <|eot_id|>\n",
      "128009: <|eot_id|>\n",
      "128009: <|eot_id|>\n",
      "128009: <|eot_id|>\n",
      "128009: <|eot_id|>\n",
      "128009: <|eot_id|>\n",
      "128009: <|eot_id|>\n",
      "128009: <|eot_id|>\n",
      "128009: <|eot_id|>\n",
      "128009: <|eot_id|>\n",
      "128009: <|eot_id|>\n",
      "128009: <|eot_id|>\n",
      "128009: <|eot_id|>\n",
      "128009: <|eot_id|>\n",
      "128009: <|eot_id|>\n",
      "128009: <|eot_id|>\n",
      "128009: <|eot_id|>\n",
      "128009: <|eot_id|>\n",
      "128009: <|eot_id|>\n",
      "128009: <|eot_id|>\n",
      "128009: <|eot_id|>\n",
      "128009: <|eot_id|>\n",
      "128009: <|eot_id|>\n",
      "128009: <|eot_id|>\n",
      "128009: <|eot_id|>\n",
      "128009: <|eot_id|>\n",
      "128009: <|eot_id|>\n",
      "128009: <|eot_id|>\n",
      "128009: <|eot_id|>\n",
      "128009: <|eot_id|>\n",
      "128009: <|eot_id|>\n",
      "128009: <|eot_id|>\n",
      "128009: <|eot_id|>\n",
      "128009: <|eot_id|>\n",
      "128009: <|eot_id|>\n",
      "128009: <|eot_id|>\n",
      "128009: <|eot_id|>\n",
      "128009: <|eot_id|>\n",
      "128009: <|eot_id|>\n",
      "128009: <|eot_id|>\n",
      "128009: <|eot_id|>\n",
      "128009: <|eot_id|>\n"
     ]
    }
   ],
   "execution_count": 18
  },
  {
   "metadata": {
    "ExecuteTime": {
     "end_time": "2025-01-30T16:57:27.566355Z",
     "start_time": "2025-01-30T16:57:26.534988Z"
    }
   },
   "cell_type": "code",
   "source": [
    "test_dataset = Dataset.from_pandas(pd.read_csv(test_dataset_path))\n",
    "\n",
    "test_dataset = test_dataset.map(\n",
    "    format_with_tokenizer,\n",
    "    batched=True,\n",
    "    batch_size=100\n",
    ")"
   ],
   "id": "b010b71dc3d46ed9",
   "outputs": [
    {
     "data": {
      "text/plain": [
       "Map:   0%|          | 0/3730 [00:00<?, ? examples/s]"
      ],
      "application/vnd.jupyter.widget-view+json": {
       "version_major": 2,
       "version_minor": 0,
       "model_id": "688bc692c64b4843b17b6d2aab98acac"
      }
     },
     "metadata": {},
     "output_type": "display_data"
    }
   ],
   "execution_count": 19
  },
  {
   "metadata": {
    "ExecuteTime": {
     "end_time": "2025-01-30T16:57:27.855548Z",
     "start_time": "2025-01-30T16:57:27.582925Z"
    }
   },
   "cell_type": "code",
   "source": [
    "peft_config = LoraConfig(\n",
    "    r=16,\n",
    "    lora_alpha=32,\n",
    "    target_modules=[\n",
    "        \"q_proj\", \"k_proj\", \"v_proj\", \"o_proj\",\n",
    "        \"down_proj\", \"up_proj\"\n",
    "    ],\n",
    "    bias=\"none\",\n",
    "    task_type=\"SEQ_CLS\",\n",
    "    inference_mode=False\n",
    ")\n",
    "\n",
    "model = get_peft_model(model, peft_config)"
   ],
   "id": "8fd2c40131e850aa",
   "outputs": [],
   "execution_count": 20
  },
  {
   "metadata": {
    "ExecuteTime": {
     "end_time": "2025-01-30T16:57:27.926269Z",
     "start_time": "2025-01-30T16:57:27.875304Z"
    }
   },
   "cell_type": "code",
   "source": [
    "training_arguments = TrainingArguments(\n",
    "    output_dir=new_model_path,\n",
    "    per_device_train_batch_size=2,\n",
    "    per_device_eval_batch_size=2,\n",
    "    gradient_accumulation_steps=16,\n",
    "    optim=\"adamw_torch_fused\",\n",
    "    num_train_epochs=10,\n",
    "    save_strategy=\"epoch\",\n",
    "    eval_strategy=\"epoch\",\n",
    "    do_eval=True,\n",
    "    warmup_steps=100,\n",
    "    learning_rate=1e-4,\n",
    "    fp16=False,\n",
    "    bf16=True,\n",
    "    group_by_length=True,\n",
    "    report_to=\"wandb\",\n",
    "    run_name=\"actual_run\",\n",
    "    logging_first_step=True,\n",
    "    logging_dir=\"../logs\",\n",
    "    logging_strategy=\"steps\",\n",
    "    logging_steps=1,\n",
    "    load_best_model_at_end=True,\n",
    "    metric_for_best_model=\"eval_loss\",\n",
    "    greater_is_better=False,\n",
    "    save_total_limit=10,\n",
    ")"
   ],
   "id": "f0aee664e91757ee",
   "outputs": [],
   "execution_count": 21
  },
  {
   "metadata": {
    "ExecuteTime": {
     "end_time": "2025-01-30T16:57:27.965479Z",
     "start_time": "2025-01-30T16:57:27.962601Z"
    }
   },
   "cell_type": "code",
   "source": "data_collator = DataCollatorWithPadding(tokenizer=tokenizer)",
   "id": "4d10c9f217e3f02f",
   "outputs": [],
   "execution_count": 22
  },
  {
   "metadata": {
    "ExecuteTime": {
     "end_time": "2025-01-30T16:57:27.978250Z",
     "start_time": "2025-01-30T16:57:27.967546Z"
    }
   },
   "cell_type": "code",
   "source": [
    "trainer = Trainer(\n",
    "    model=model,\n",
    "    args=training_arguments,\n",
    "    train_dataset=train_dataset,\n",
    "    eval_dataset=test_dataset,\n",
    "    data_collator=data_collator,\n",
    ")"
   ],
   "id": "3503b45bfcc974f",
   "outputs": [],
   "execution_count": 23
  },
  {
   "metadata": {
    "jupyter": {
     "is_executing": true
    },
    "ExecuteTime": {
     "start_time": "2025-01-30T16:57:27.996272Z"
    }
   },
   "cell_type": "code",
   "source": "trainer.train()",
   "id": "430323e15ceda5c4",
   "outputs": [
    {
     "data": {
      "text/plain": [
       "<IPython.core.display.HTML object>"
      ],
      "text/html": [
       "\n",
       "    <div>\n",
       "      \n",
       "      <progress value='260' max='4660' style='width:300px; height:20px; vertical-align: middle;'></progress>\n",
       "      [ 260/4660 10:54 < 3:05:56, 0.39 it/s, Epoch 0.56/10]\n",
       "    </div>\n",
       "    <table border=\"1\" class=\"dataframe\">\n",
       "  <thead>\n",
       " <tr style=\"text-align: left;\">\n",
       "      <th>Epoch</th>\n",
       "      <th>Training Loss</th>\n",
       "      <th>Validation Loss</th>\n",
       "    </tr>\n",
       "  </thead>\n",
       "  <tbody>\n",
       "  </tbody>\n",
       "</table><p>"
      ]
     },
     "metadata": {},
     "output_type": "display_data"
    }
   ],
   "execution_count": null
  },
  {
   "metadata": {},
   "cell_type": "code",
   "source": "wandb.finish()",
   "id": "a968ba6c0d29438e",
   "outputs": [],
   "execution_count": null
  },
  {
   "metadata": {},
   "cell_type": "code",
   "source": "trainer.model.save_pretrained(new_model_path)",
   "id": "a7ff890c53b5ce44",
   "outputs": [],
   "execution_count": null
  }
 ],
 "metadata": {
  "kernelspec": {
   "display_name": "Python 3",
   "language": "python",
   "name": "python3"
  },
  "language_info": {
   "codemirror_mode": {
    "name": "ipython",
    "version": 2
   },
   "file_extension": ".py",
   "mimetype": "text/x-python",
   "name": "python",
   "nbconvert_exporter": "python",
   "pygments_lexer": "ipython2",
   "version": "2.7.6"
  }
 },
 "nbformat": 4,
 "nbformat_minor": 5
}
