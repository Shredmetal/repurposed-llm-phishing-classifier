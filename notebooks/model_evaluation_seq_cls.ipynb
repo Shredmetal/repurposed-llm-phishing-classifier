{
 "cells": [
  {
   "cell_type": "code",
   "id": "initial_id",
   "metadata": {
    "collapsed": true,
    "ExecuteTime": {
     "end_time": "2025-01-29T14:05:23.188825Z",
     "start_time": "2025-01-29T14:05:20.841560Z"
    }
   },
   "source": [
    "import torch\n",
    "import pandas as pd\n",
    "import matplotlib.pyplot as plt\n",
    "import seaborn as sns\n",
    "\n",
    "from sklearn.metrics import accuracy_score, precision_score, recall_score, f1_score, confusion_matrix\n",
    "from transformers import AutoTokenizer\n",
    "from transformers import PreTrainedTokenizerFast\n",
    "from typing import Dict, Tuple\n",
    "from transformers import AutoModelForSequenceClassification\n",
    "from peft import PeftModel\n"
   ],
   "outputs": [],
   "execution_count": 1
  },
  {
   "metadata": {
    "ExecuteTime": {
     "end_time": "2025-01-29T14:05:23.195845Z",
     "start_time": "2025-01-29T14:05:23.190830Z"
    }
   },
   "cell_type": "code",
   "source": [
    "def evaluate_llm_classifier(base_model_path: str, lora_adapter_path: str, test_data: pd.DataFrame, tokenizer: PreTrainedTokenizerFast) -> Tuple[Dict[str, float | int], Dict[str, float]]:\n",
    "\n",
    "    base_model = AutoModelForSequenceClassification.from_pretrained(\n",
    "        base_model_path,\n",
    "        torch_dtype=torch.bfloat16,\n",
    "        device_map=\"auto\",\n",
    "        num_labels=2\n",
    "    )\n",
    "\n",
    "    model = PeftModel.from_pretrained(\n",
    "        base_model,\n",
    "        lora_adapter_path,\n",
    "        torch_dtype=torch.bfloat16,\n",
    "        device_map=\"auto\"\n",
    "    )\n",
    "\n",
    "    tokenizer.pad_token = tokenizer.eos_token\n",
    "    model.config.pad_token_id = tokenizer.eos_token_id\n",
    "\n",
    "    tokenizer.chat_template = None\n",
    "\n",
    "    tokenizer.chat_template = \"\"\"<|begin_of_text|>{% for message in messages %}<|start_header_id|>{{ message['role'] }}<|end_header_id|>{{ message['content'] }}<|eot_id|>{% endfor %}\"\"\"\n",
    "\n",
    "    true_labels = []\n",
    "    predicted_labels = []\n",
    "\n",
    "    for _, row in test_data.iterrows():\n",
    "        messages = [\n",
    "            {\"role\": \"system\", \"content\": row[\"system\"]},\n",
    "            {\"role\": \"user\", \"content\": row[\"user\"]},\n",
    "        ]\n",
    "\n",
    "        prompt = tokenizer.apply_chat_template(messages, tokenize=False)\n",
    "\n",
    "        inputs = tokenizer(\n",
    "            prompt,\n",
    "            return_tensors=\"pt\",\n",
    "            padding='max_length',\n",
    "            truncation=True,\n",
    "            max_length=512\n",
    "        ).to(model.device)\n",
    "\n",
    "        with torch.no_grad():\n",
    "            outputs = model(**inputs)\n",
    "\n",
    "            logits = outputs.logits\n",
    "            predictions = torch.softmax(logits, dim=-1)\n",
    "            predicted_class = torch.argmax(predictions, dim=-1)\n",
    "\n",
    "        pred_label = bool(predicted_class[0])\n",
    "        true_label = row[\"assistant\"]\n",
    "\n",
    "        true_labels.append(true_label)\n",
    "        predicted_labels.append(pred_label)\n",
    "\n",
    "    metrics = {\n",
    "        \"accuracy\": accuracy_score(true_labels, predicted_labels),\n",
    "        \"precision\": precision_score(true_labels, predicted_labels),\n",
    "        \"recall\": recall_score(true_labels, predicted_labels),\n",
    "        \"f1_score\": f1_score(true_labels, predicted_labels),\n",
    "        \"true_labels\": true_labels,\n",
    "        \"predicted_labels\": predicted_labels,\n",
    "    }\n",
    "\n",
    "    evaluation_confusion_matrix = confusion_matrix(true_labels, predicted_labels)\n",
    "    plt.figure(figsize=(10,8))\n",
    "    sns.heatmap(evaluation_confusion_matrix, annot=True, fmt=\"d\", cmap=\"Blues\")\n",
    "    plt.title(\"Confusion Matrix\")\n",
    "    plt.ylabel(\"True label\")\n",
    "    plt.xlabel(\"Predicted label\")\n",
    "    plt.show()\n",
    "\n",
    "    return metrics"
   ],
   "id": "1257b6e95d56603d",
   "outputs": [],
   "execution_count": 2
  },
  {
   "metadata": {
    "ExecuteTime": {
     "end_time": "2025-01-29T14:05:26.427618Z",
     "start_time": "2025-01-29T14:05:26.370141Z"
    }
   },
   "cell_type": "code",
   "source": "test_df = pd.read_csv(\"../processed_data/test.csv\")",
   "id": "2e1fc73c1422c2c2",
   "outputs": [],
   "execution_count": 3
  },
  {
   "metadata": {
    "ExecuteTime": {
     "end_time": "2025-01-29T14:05:27.223552Z",
     "start_time": "2025-01-29T14:05:27.220167Z"
    }
   },
   "cell_type": "code",
   "source": "base_model_path = \"../models/llama_models/llama-3.2-3B\"",
   "id": "3c3747358cda3ed4",
   "outputs": [],
   "execution_count": 4
  },
  {
   "metadata": {
    "ExecuteTime": {
     "end_time": "2025-01-29T14:05:27.947237Z",
     "start_time": "2025-01-29T14:05:27.944239Z"
    }
   },
   "cell_type": "code",
   "source": "lora_adapter_path = \"../models/tuned_models/llama-3.2-3B-phishing-classifier-seq-cls\"",
   "id": "d6b58dc01103aaa7",
   "outputs": [],
   "execution_count": 5
  },
  {
   "metadata": {
    "ExecuteTime": {
     "end_time": "2025-01-29T14:05:29.491479Z",
     "start_time": "2025-01-29T14:05:29.270175Z"
    }
   },
   "cell_type": "code",
   "source": "tokenizer = AutoTokenizer.from_pretrained(base_model_path, trust_remote_code=True)",
   "id": "2ad084e8e1bf9f80",
   "outputs": [],
   "execution_count": 6
  },
  {
   "metadata": {
    "ExecuteTime": {
     "end_time": "2025-01-29T14:08:08.914126Z",
     "start_time": "2025-01-29T14:05:30.155599Z"
    }
   },
   "cell_type": "code",
   "source": [
    "metrics = evaluate_llm_classifier(\n",
    "    base_model_path=base_model_path,\n",
    "    lora_adapter_path=lora_adapter_path,\n",
    "    test_data=test_df,\n",
    "    tokenizer=tokenizer\n",
    ")"
   ],
   "id": "87cc190b38d8a3f6",
   "outputs": [
    {
     "data": {
      "text/plain": [
       "Loading checkpoint shards:   0%|          | 0/2 [00:00<?, ?it/s]"
      ],
      "application/vnd.jupyter.widget-view+json": {
       "version_major": 2,
       "version_minor": 0,
       "model_id": "f39b5787d6ed423cae7d07dc62796b2b"
      }
     },
     "metadata": {},
     "output_type": "display_data"
    },
    {
     "name": "stderr",
     "output_type": "stream",
     "text": [
      "Some weights of LlamaForSequenceClassification were not initialized from the model checkpoint at ../models/llama_models/llama-3.2-3B and are newly initialized: ['score.weight']\n",
      "You should probably TRAIN this model on a down-stream task to be able to use it for predictions and inference.\n"
     ]
    },
    {
     "data": {
      "text/plain": [
       "<Figure size 1000x800 with 2 Axes>"
      ],
      "image/png": "[encoded data removed]"
     },
     "metadata": {},
     "output_type": "display_data"
    }
   ],
   "execution_count": 7
  },
  {
   "metadata": {
    "ExecuteTime": {
     "end_time": "2025-01-29T14:08:08.944010Z",
     "start_time": "2025-01-29T14:08:08.940945Z"
    }
   },
   "cell_type": "code",
   "source": [
    "print(f\"Accuracy: {metrics['accuracy']}\")\n",
    "print(f\"Precision: {metrics['precision']}\")\n",
    "print(f\"Recall: {metrics['recall']}\")\n",
    "print(f\"F1-score: {metrics['f1_score']}\")\n"
   ],
   "id": "8d925557c60fbdd1",
   "outputs": [
    {
     "name": "stdout",
     "output_type": "stream",
     "text": [
      "Accuracy: 0.9804289544235925\n",
      "Precision: 0.9646430953969313\n",
      "Recall: 0.9863574351978172\n",
      "F1-score: 0.9753794266441821\n"
     ]
    }
   ],
   "execution_count": 8
  }
 ],
 "metadata": {
  "kernelspec": {
   "display_name": "Python 3",
   "language": "python",
   "name": "python3"
  },
  "language_info": {
   "codemirror_mode": {
    "name": "ipython",
    "version": 2
   },
   "file_extension": ".py",
   "mimetype": "text/x-python",
   "name": "python",
   "nbconvert_exporter": "python",
   "pygments_lexer": "ipython2",
   "version": "2.7.6"
  }
 },
 "nbformat": 4,
 "nbformat_minor": 5
}
