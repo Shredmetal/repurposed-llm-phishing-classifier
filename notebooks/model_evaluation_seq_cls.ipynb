{
 "cells": [
  {
   "cell_type": "code",
   "execution_count": null,
   "id": "initial_id",
   "metadata": {
    "collapsed": true
   },
   "outputs": [],
   "source": [
    "import torch\n",
    "import pandas as pd\n",
    "import matplotlib.pyplot as plt\n",
    "import seaborn as sns\n",
    "\n",
    "from sklearn.metrics import accuracy_score, precision_score, recall_score, f1_score, confusion_matrix\n",
    "from transformers import AutoTokenizer\n",
    "from transformers import PreTrainedTokenizerFast\n",
    "from typing import Dict, Tuple\n",
    "from transformers import AutoModelForSequenceClassification\n"
   ]
  },
  {
   "metadata": {},
   "cell_type": "code",
   "outputs": [],
   "execution_count": null,
   "source": [
    "def evaluate_llm_classifier(model_path: str, test_data: pd.DataFrame, tokenizer: PreTrainedTokenizerFast) -> Tuple[Dict[str, float | int], Dict[str, float]]:\n",
    "\n",
    "    model = AutoModelForSequenceClassification.from_pretrained(\n",
    "        model_path,\n",
    "        torch_dtype=torch.bfloat16,\n",
    "        device_map=\"auto\",\n",
    "        num_labels=2\n",
    "    )\n",
    "\n",
    "    tokenizer.pad_token = tokenizer.eos_token\n",
    "    model.config.pad_token_id = tokenizer.eos_token_id\n",
    "\n",
    "    tokenizer.chat_template = None\n",
    "\n",
    "    tokenizer.chat_template = \"\"\"<|begin_of_text|>{% for message in messages %}<|start_header_id|>{{ message['role'] }}<|end_header_id|>{{ message['content'] }}<|eot_id|>{% endfor %}\"\"\"\n",
    "\n",
    "    true_labels = []\n",
    "    predicted_labels = []\n",
    "\n",
    "    for _, row in test_data.iterrows():\n",
    "        messages = [\n",
    "            {\"role\": \"system\", \"content\": row[\"system\"]},\n",
    "            {\"role\": \"user\", \"content\": row[\"user\"]},\n",
    "        ]\n",
    "\n",
    "        prompt = tokenizer.apply_chat_template(messages, tokenize=False)\n",
    "\n",
    "        inputs = tokenizer(\n",
    "            prompt,\n",
    "            return_tensors=\"pt\",\n",
    "            padding='max_length',\n",
    "            truncation=True,\n",
    "            max_length=512\n",
    "        ).to(model.device)\n",
    "\n",
    "        with torch.no_grad():\n",
    "            outputs = model(**inputs)\n",
    "\n",
    "            logits = outputs.logits\n",
    "            predictions = torch.softmax(logits, dim=-1)\n",
    "            predicted_class = torch.argmax(predictions, dim=-1)\n",
    "\n",
    "        pred_label = bool(predicted_class[0])\n",
    "        true_label = row[\"assistant\"].lower() == \"true\"\n",
    "\n",
    "        true_labels.append(true_label)\n",
    "        predicted_labels.append(pred_label)\n",
    "\n",
    "    metrics = {\n",
    "        \"accuracy\": accuracy_score(true_labels, predicted_labels),\n",
    "        \"precision\": precision_score(true_labels, predicted_labels),\n",
    "        \"recall\": recall_score(true_labels, predicted_labels),\n",
    "        \"f1_score\": f1_score(true_labels, predicted_labels),\n",
    "        \"true_labels\": true_labels,\n",
    "        \"predicted_labels\": predicted_labels,\n",
    "    }\n",
    "\n",
    "    evaluation_confusion_matrix = confusion_matrix(true_labels, predicted_labels)\n",
    "    plt.figure(figsize=(10,8))\n",
    "    sns.heatmap(evaluation_confusion_matrix, annot=True, fmt=\"d\", cmap=\"Blues\")\n",
    "    plt.title(\"Confusion Matrix\")\n",
    "    plt.ylabel(\"True label\")\n",
    "    plt.xlabel(\"Predicted label\")\n",
    "    plt.show()\n",
    "\n",
    "    return metrics"
   ],
   "id": "1257b6e95d56603d"
  },
  {
   "metadata": {},
   "cell_type": "code",
   "outputs": [],
   "execution_count": null,
   "source": "test_df = pd.read_csv(\"../processed_data/test.csv\")",
   "id": "2e1fc73c1422c2c2"
  },
  {
   "metadata": {},
   "cell_type": "code",
   "outputs": [],
   "execution_count": null,
   "source": "base_model_path = \"../models/llama_models/llama-3.2-3B\"",
   "id": "3c3747358cda3ed4"
  },
  {
   "metadata": {},
   "cell_type": "code",
   "outputs": [],
   "execution_count": null,
   "source": "tokenizer = AutoTokenizer.from_pretrained(base_model_path, trust_remote_code=True)",
   "id": "2ad084e8e1bf9f80"
  },
  {
   "metadata": {},
   "cell_type": "code",
   "outputs": [],
   "execution_count": null,
   "source": [
    "evaluate_llm_classifier(\n",
    "    model_path=\"FILL_THIS_IN_AFTER_SAVING\",\n",
    "    test_data=test_df,\n",
    "    tokenizer=tokenizer\n",
    ")"
   ],
   "id": "87cc190b38d8a3f6"
  }
 ],
 "metadata": {
  "kernelspec": {
   "display_name": "Python 3",
   "language": "python",
   "name": "python3"
  },
  "language_info": {
   "codemirror_mode": {
    "name": "ipython",
    "version": 2
   },
   "file_extension": ".py",
   "mimetype": "text/x-python",
   "name": "python",
   "nbconvert_exporter": "python",
   "pygments_lexer": "ipython2",
   "version": "2.7.6"
  }
 },
 "nbformat": 4,
 "nbformat_minor": 5
}
